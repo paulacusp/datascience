{
 "cells": [
  {
   "cell_type": "code",
   "execution_count": 17,
   "metadata": {
    "collapsed": false
   },
   "outputs": [],
   "source": [
    "import pandas as pd\n",
    "import matplotlib.pyplot as plt\n",
    "from matplotlib import style\n",
    "%matplotlib inline\n",
    "import numpy as np\n",
    "import bokeh \n",
    "from bokeh.plotting import figure, output_file, show\n",
    "from bokeh.charts import Bar, output_notebook, show"
   ]
  },
  {
   "cell_type": "code",
   "execution_count": 18,
   "metadata": {
    "collapsed": false
   },
   "outputs": [
    {
     "data": {
      "text/html": [
       "\n",
       "    <div class=\"bk-root\">\n",
       "        <a href=\"http://bokeh.pydata.org\" target=\"_blank\" class=\"bk-logo bk-logo-small bk-logo-notebook\"></a>\n",
       "        <span id=\"74c98827-4c14-4f75-bbeb-5ba229835632\">Loading BokehJS ...</span>\n",
       "    </div>"
      ]
     },
     "metadata": {},
     "output_type": "display_data"
    },
    {
     "data": {
      "application/javascript": [
       "\n",
       "(function(global) {\n",
       "  function now() {\n",
       "    return new Date();\n",
       "  }\n",
       "\n",
       "  var force = true;\n",
       "\n",
       "  if (typeof (window._bokeh_onload_callbacks) === \"undefined\" || force === true) {\n",
       "    window._bokeh_onload_callbacks = [];\n",
       "    window._bokeh_is_loading = undefined;\n",
       "  }\n",
       "\n",
       "\n",
       "  \n",
       "  if (typeof (window._bokeh_timeout) === \"undefined\" || force === true) {\n",
       "    window._bokeh_timeout = Date.now() + 5000;\n",
       "    window._bokeh_failed_load = false;\n",
       "  }\n",
       "\n",
       "  var NB_LOAD_WARNING = {'data': {'text/html':\n",
       "     \"<div style='background-color: #fdd'>\\n\"+\n",
       "     \"<p>\\n\"+\n",
       "     \"BokehJS does not appear to have successfully loaded. If loading BokehJS from CDN, this \\n\"+\n",
       "     \"may be due to a slow or bad network connection. Possible fixes:\\n\"+\n",
       "     \"</p>\\n\"+\n",
       "     \"<ul>\\n\"+\n",
       "     \"<li>re-rerun `output_notebook()` to attempt to load from CDN again, or</li>\\n\"+\n",
       "     \"<li>use INLINE resources instead, as so:</li>\\n\"+\n",
       "     \"</ul>\\n\"+\n",
       "     \"<code>\\n\"+\n",
       "     \"from bokeh.resources import INLINE\\n\"+\n",
       "     \"output_notebook(resources=INLINE)\\n\"+\n",
       "     \"</code>\\n\"+\n",
       "     \"</div>\"}};\n",
       "\n",
       "  function display_loaded() {\n",
       "    if (window.Bokeh !== undefined) {\n",
       "      document.getElementById(\"74c98827-4c14-4f75-bbeb-5ba229835632\").textContent = \"BokehJS successfully loaded.\";\n",
       "    } else if (Date.now() < window._bokeh_timeout) {\n",
       "      setTimeout(display_loaded, 100)\n",
       "    }\n",
       "  }\n",
       "\n",
       "  function run_callbacks() {\n",
       "    window._bokeh_onload_callbacks.forEach(function(callback) { callback() });\n",
       "    delete window._bokeh_onload_callbacks\n",
       "    console.info(\"Bokeh: all callbacks have finished\");\n",
       "  }\n",
       "\n",
       "  function load_libs(js_urls, callback) {\n",
       "    window._bokeh_onload_callbacks.push(callback);\n",
       "    if (window._bokeh_is_loading > 0) {\n",
       "      console.log(\"Bokeh: BokehJS is being loaded, scheduling callback at\", now());\n",
       "      return null;\n",
       "    }\n",
       "    if (js_urls == null || js_urls.length === 0) {\n",
       "      run_callbacks();\n",
       "      return null;\n",
       "    }\n",
       "    console.log(\"Bokeh: BokehJS not loaded, scheduling load and callback at\", now());\n",
       "    window._bokeh_is_loading = js_urls.length;\n",
       "    for (var i = 0; i < js_urls.length; i++) {\n",
       "      var url = js_urls[i];\n",
       "      var s = document.createElement('script');\n",
       "      s.src = url;\n",
       "      s.async = false;\n",
       "      s.onreadystatechange = s.onload = function() {\n",
       "        window._bokeh_is_loading--;\n",
       "        if (window._bokeh_is_loading === 0) {\n",
       "          console.log(\"Bokeh: all BokehJS libraries loaded\");\n",
       "          run_callbacks()\n",
       "        }\n",
       "      };\n",
       "      s.onerror = function() {\n",
       "        console.warn(\"failed to load library \" + url);\n",
       "      };\n",
       "      console.log(\"Bokeh: injecting script tag for BokehJS library: \", url);\n",
       "      document.getElementsByTagName(\"head\")[0].appendChild(s);\n",
       "    }\n",
       "  };var element = document.getElementById(\"74c98827-4c14-4f75-bbeb-5ba229835632\");\n",
       "  if (element == null) {\n",
       "    console.log(\"Bokeh: ERROR: autoload.js configured with elementid '74c98827-4c14-4f75-bbeb-5ba229835632' but no matching script tag was found. \")\n",
       "    return false;\n",
       "  }\n",
       "\n",
       "  var js_urls = [\"https://cdn.pydata.org/bokeh/release/bokeh-0.12.4.min.js\", \"https://cdn.pydata.org/bokeh/release/bokeh-widgets-0.12.4.min.js\"];\n",
       "\n",
       "  var inline_js = [\n",
       "    function(Bokeh) {\n",
       "      Bokeh.set_log_level(\"info\");\n",
       "    },\n",
       "    \n",
       "    function(Bokeh) {\n",
       "      \n",
       "      document.getElementById(\"74c98827-4c14-4f75-bbeb-5ba229835632\").textContent = \"BokehJS is loading...\";\n",
       "    },\n",
       "    function(Bokeh) {\n",
       "      console.log(\"Bokeh: injecting CSS: https://cdn.pydata.org/bokeh/release/bokeh-0.12.4.min.css\");\n",
       "      Bokeh.embed.inject_css(\"https://cdn.pydata.org/bokeh/release/bokeh-0.12.4.min.css\");\n",
       "      console.log(\"Bokeh: injecting CSS: https://cdn.pydata.org/bokeh/release/bokeh-widgets-0.12.4.min.css\");\n",
       "      Bokeh.embed.inject_css(\"https://cdn.pydata.org/bokeh/release/bokeh-widgets-0.12.4.min.css\");\n",
       "    }\n",
       "  ];\n",
       "\n",
       "  function run_inline_js() {\n",
       "    \n",
       "    if ((window.Bokeh !== undefined) || (force === true)) {\n",
       "      for (var i = 0; i < inline_js.length; i++) {\n",
       "        inline_js[i](window.Bokeh);\n",
       "      }if (force === true) {\n",
       "        display_loaded();\n",
       "      }} else if (Date.now() < window._bokeh_timeout) {\n",
       "      setTimeout(run_inline_js, 100);\n",
       "    } else if (!window._bokeh_failed_load) {\n",
       "      console.log(\"Bokeh: BokehJS failed to load within specified timeout.\");\n",
       "      window._bokeh_failed_load = true;\n",
       "    } else if (force !== true) {\n",
       "      var cell = $(document.getElementById(\"74c98827-4c14-4f75-bbeb-5ba229835632\")).parents('.cell').data().cell;\n",
       "      cell.output_area.append_execute_result(NB_LOAD_WARNING)\n",
       "    }\n",
       "\n",
       "  }\n",
       "\n",
       "  if (window._bokeh_is_loading === 0) {\n",
       "    console.log(\"Bokeh: BokehJS loaded, going straight to plotting\");\n",
       "    run_inline_js();\n",
       "  } else {\n",
       "    load_libs(js_urls, function() {\n",
       "      console.log(\"Bokeh: BokehJS plotting callback run at\", now());\n",
       "      run_inline_js();\n",
       "    });\n",
       "  }\n",
       "}(this));"
      ]
     },
     "metadata": {},
     "output_type": "display_data"
    }
   ],
   "source": [
    "output_notebook()\n",
    "arq = open(\"comp_prices.csv\", \"r\")\n",
    "df = pd.read_csv(arq)"
   ]
  },
  {
   "cell_type": "code",
   "execution_count": 19,
   "metadata": {
    "collapsed": false
   },
   "outputs": [
    {
     "data": {
      "text/plain": [
       "(50114, 5)"
      ]
     },
     "execution_count": 19,
     "metadata": {},
     "output_type": "execute_result"
    }
   ],
   "source": [
    "df.shape"
   ]
  },
  {
   "cell_type": "code",
   "execution_count": 20,
   "metadata": {
    "collapsed": false
   },
   "outputs": [
    {
     "data": {
      "text/html": [
       "<div>\n",
       "<table border=\"1\" class=\"dataframe\">\n",
       "  <thead>\n",
       "    <tr style=\"text-align: right;\">\n",
       "      <th></th>\n",
       "      <th>PROD_ID</th>\n",
       "      <th>DATE_EXTRACTION</th>\n",
       "      <th>COMPETITOR</th>\n",
       "      <th>COMPETITOR_PRICE</th>\n",
       "      <th>PAY_TYPE</th>\n",
       "    </tr>\n",
       "  </thead>\n",
       "  <tbody>\n",
       "    <tr>\n",
       "      <th>0</th>\n",
       "      <td>P6</td>\n",
       "      <td>1/30/2015 8:11:38</td>\n",
       "      <td>C3</td>\n",
       "      <td>18980</td>\n",
       "      <td>1</td>\n",
       "    </tr>\n",
       "    <tr>\n",
       "      <th>1</th>\n",
       "      <td>P6</td>\n",
       "      <td>1/30/2015 8:11:38</td>\n",
       "      <td>C1</td>\n",
       "      <td>18980</td>\n",
       "      <td>1</td>\n",
       "    </tr>\n",
       "    <tr>\n",
       "      <th>2</th>\n",
       "      <td>P6</td>\n",
       "      <td>1/30/2015 8:11:38</td>\n",
       "      <td>C6</td>\n",
       "      <td>19999</td>\n",
       "      <td>1</td>\n",
       "    </tr>\n",
       "    <tr>\n",
       "      <th>3</th>\n",
       "      <td>P6</td>\n",
       "      <td>1/31/2015 20:10:14</td>\n",
       "      <td>C2</td>\n",
       "      <td>189488</td>\n",
       "      <td>2</td>\n",
       "    </tr>\n",
       "    <tr>\n",
       "      <th>4</th>\n",
       "      <td>P6</td>\n",
       "      <td>1/31/2015 20:10:14</td>\n",
       "      <td>C3</td>\n",
       "      <td>189488</td>\n",
       "      <td>2</td>\n",
       "    </tr>\n",
       "  </tbody>\n",
       "</table>\n",
       "</div>"
      ],
      "text/plain": [
       "  PROD_ID     DATE_EXTRACTION COMPETITOR  COMPETITOR_PRICE  PAY_TYPE\n",
       "0      P6   1/30/2015 8:11:38         C3             18980         1\n",
       "1      P6   1/30/2015 8:11:38         C1             18980         1\n",
       "2      P6   1/30/2015 8:11:38         C6             19999         1\n",
       "3      P6  1/31/2015 20:10:14         C2            189488         2\n",
       "4      P6  1/31/2015 20:10:14         C3            189488         2"
      ]
     },
     "execution_count": 20,
     "metadata": {},
     "output_type": "execute_result"
    }
   ],
   "source": [
    "df.head(5)"
   ]
  },
  {
   "cell_type": "code",
   "execution_count": 24,
   "metadata": {
    "collapsed": false
   },
   "outputs": [
    {
     "data": {
      "text/html": [
       "<div>\n",
       "<table border=\"1\" class=\"dataframe\">\n",
       "  <thead>\n",
       "    <tr style=\"text-align: right;\">\n",
       "      <th></th>\n",
       "      <th>PROD_ID</th>\n",
       "      <th>DATE_EXTRACTION</th>\n",
       "      <th>COMPETITOR</th>\n",
       "      <th>COMPETITOR_PRICE</th>\n",
       "      <th>PAY_TYPE</th>\n",
       "    </tr>\n",
       "  </thead>\n",
       "  <tbody>\n",
       "    <tr>\n",
       "      <th>50109</th>\n",
       "      <td>P5</td>\n",
       "      <td>2015-10-11 20:10:34</td>\n",
       "      <td>C1</td>\n",
       "      <td>819.00</td>\n",
       "      <td>2</td>\n",
       "    </tr>\n",
       "    <tr>\n",
       "      <th>50110</th>\n",
       "      <td>P5</td>\n",
       "      <td>2015-10-11 20:10:34</td>\n",
       "      <td>C2</td>\n",
       "      <td>853.52</td>\n",
       "      <td>2</td>\n",
       "    </tr>\n",
       "    <tr>\n",
       "      <th>50111</th>\n",
       "      <td>P5</td>\n",
       "      <td>2015-10-12 08:11:27</td>\n",
       "      <td>C2</td>\n",
       "      <td>853.52</td>\n",
       "      <td>1</td>\n",
       "    </tr>\n",
       "    <tr>\n",
       "      <th>50112</th>\n",
       "      <td>P5</td>\n",
       "      <td>2015-10-12 08:11:27</td>\n",
       "      <td>C3</td>\n",
       "      <td>819.00</td>\n",
       "      <td>1</td>\n",
       "    </tr>\n",
       "    <tr>\n",
       "      <th>50113</th>\n",
       "      <td>P5</td>\n",
       "      <td>2015-10-12 08:11:27</td>\n",
       "      <td>C1</td>\n",
       "      <td>819.00</td>\n",
       "      <td>1</td>\n",
       "    </tr>\n",
       "  </tbody>\n",
       "</table>\n",
       "</div>"
      ],
      "text/plain": [
       "      PROD_ID      DATE_EXTRACTION COMPETITOR  COMPETITOR_PRICE  PAY_TYPE\n",
       "50109      P5  2015-10-11 20:10:34         C1            819.00         2\n",
       "50110      P5  2015-10-11 20:10:34         C2            853.52         2\n",
       "50111      P5  2015-10-12 08:11:27         C2            853.52         1\n",
       "50112      P5  2015-10-12 08:11:27         C3            819.00         1\n",
       "50113      P5  2015-10-12 08:11:27         C1            819.00         1"
      ]
     },
     "execution_count": 24,
     "metadata": {},
     "output_type": "execute_result"
    }
   ],
   "source": [
    "df.tail(5)"
   ]
  },
  {
   "cell_type": "code",
   "execution_count": 21,
   "metadata": {
    "collapsed": false
   },
   "outputs": [
    {
     "data": {
      "text/plain": [
       "PROD_ID             0\n",
       "DATE_EXTRACTION     0\n",
       "COMPETITOR          0\n",
       "COMPETITOR_PRICE    0\n",
       "PAY_TYPE            0\n",
       "dtype: int64"
      ]
     },
     "execution_count": 21,
     "metadata": {},
     "output_type": "execute_result"
    }
   ],
   "source": [
    "df.apply(lambda x: sum(x.isnull()),axis=0)"
   ]
  },
  {
   "cell_type": "code",
   "execution_count": 22,
   "metadata": {
    "collapsed": true
   },
   "outputs": [],
   "source": [
    "d=df['COMPETITOR']\n",
    "e=df['COMPETITOR_PRICE']"
   ]
  },
  {
   "cell_type": "code",
   "execution_count": 25,
   "metadata": {
    "collapsed": true
   },
   "outputs": [],
   "source": [
    "competidor_map = {'C1':1, 'C2':2, 'C3':3, 'C4':4, 'C5':5, 'C6':6}"
   ]
  },
  {
   "cell_type": "code",
   "execution_count": 26,
   "metadata": {
    "collapsed": false
   },
   "outputs": [],
   "source": [
    "produto_map={'P1':1, 'P2':2, 'P3':3, 'P4':4, 'P5':5, 'P6':6, 'P7':7, 'P8':8,'P9':9}"
   ]
  },
  {
   "cell_type": "code",
   "execution_count": 27,
   "metadata": {
    "collapsed": false
   },
   "outputs": [],
   "source": [
    "df['COMPETITOR'] = df['COMPETITOR'].map(competidor_map)"
   ]
  },
  {
   "cell_type": "code",
   "execution_count": 28,
   "metadata": {
    "collapsed": true
   },
   "outputs": [],
   "source": [
    "df['PROD_ID'] = df['PROD_ID'].map(produto_map)"
   ]
  },
  {
   "cell_type": "code",
   "execution_count": 29,
   "metadata": {
    "collapsed": false
   },
   "outputs": [
    {
     "data": {
      "text/html": [
       "<div>\n",
       "<table border=\"1\" class=\"dataframe\">\n",
       "  <thead>\n",
       "    <tr style=\"text-align: right;\">\n",
       "      <th></th>\n",
       "      <th>PROD_ID</th>\n",
       "      <th>DATE_EXTRACTION</th>\n",
       "      <th>COMPETITOR</th>\n",
       "      <th>COMPETITOR_PRICE</th>\n",
       "      <th>PAY_TYPE</th>\n",
       "    </tr>\n",
       "  </thead>\n",
       "  <tbody>\n",
       "    <tr>\n",
       "      <th>0</th>\n",
       "      <td>6</td>\n",
       "      <td>1/30/2015 8:11:38</td>\n",
       "      <td>3</td>\n",
       "      <td>18980</td>\n",
       "      <td>1</td>\n",
       "    </tr>\n",
       "    <tr>\n",
       "      <th>1</th>\n",
       "      <td>6</td>\n",
       "      <td>1/30/2015 8:11:38</td>\n",
       "      <td>1</td>\n",
       "      <td>18980</td>\n",
       "      <td>1</td>\n",
       "    </tr>\n",
       "    <tr>\n",
       "      <th>2</th>\n",
       "      <td>6</td>\n",
       "      <td>1/30/2015 8:11:38</td>\n",
       "      <td>6</td>\n",
       "      <td>19999</td>\n",
       "      <td>1</td>\n",
       "    </tr>\n",
       "    <tr>\n",
       "      <th>3</th>\n",
       "      <td>6</td>\n",
       "      <td>1/31/2015 20:10:14</td>\n",
       "      <td>2</td>\n",
       "      <td>189488</td>\n",
       "      <td>2</td>\n",
       "    </tr>\n",
       "    <tr>\n",
       "      <th>4</th>\n",
       "      <td>6</td>\n",
       "      <td>1/31/2015 20:10:14</td>\n",
       "      <td>3</td>\n",
       "      <td>189488</td>\n",
       "      <td>2</td>\n",
       "    </tr>\n",
       "  </tbody>\n",
       "</table>\n",
       "</div>"
      ],
      "text/plain": [
       "   PROD_ID     DATE_EXTRACTION  COMPETITOR  COMPETITOR_PRICE  PAY_TYPE\n",
       "0        6   1/30/2015 8:11:38           3             18980         1\n",
       "1        6   1/30/2015 8:11:38           1             18980         1\n",
       "2        6   1/30/2015 8:11:38           6             19999         1\n",
       "3        6  1/31/2015 20:10:14           2            189488         2\n",
       "4        6  1/31/2015 20:10:14           3            189488         2"
      ]
     },
     "execution_count": 29,
     "metadata": {},
     "output_type": "execute_result"
    }
   ],
   "source": [
    "df.head(5)"
   ]
  },
  {
   "cell_type": "code",
   "execution_count": 31,
   "metadata": {
    "collapsed": false
   },
   "outputs": [
    {
     "name": "stdout",
     "output_type": "stream",
     "text": [
      "Quantidade de Competidor1: 9868 (19.69%)\n",
      "Quantidade de Competidor2: 9770 (19.50%)\n",
      "Quantidade de Competidor3: 9695 (19.35%)\n",
      "Quantidade de Competidor4: 7989 (15.94%)\n",
      "Quantidade de Competidor5: 4287 (8.55%)\n",
      "Quantidade de Competidor6: 8505 (16.97%)\n"
     ]
    }
   ],
   "source": [
    "num_C1 = len(df.loc[df['COMPETITOR'] == 1])\n",
    "num_C2 = len(df.loc[df['COMPETITOR'] == 2])\n",
    "num_C3 = len(df.loc[df['COMPETITOR'] == 3])\n",
    "num_C4 = len(df.loc[df['COMPETITOR'] == 4])\n",
    "num_C5 = len(df.loc[df['COMPETITOR'] == 5])\n",
    "num_C6 = len(df.loc[df['COMPETITOR'] == 6])\n",
    "print(\"Quantidade de Competidor1: {0} ({1:2.2f}%)\".format(num_C1,(num_C1/(num_C1+num_C2+num_C3+num_C4+num_C5+num_C6))*100))\n",
    "print(\"Quantidade de Competidor2: {0} ({1:2.2f}%)\".format(num_C2,(num_C2/(num_C1+num_C2+num_C3+num_C4+num_C5+num_C6))*100))\n",
    "print(\"Quantidade de Competidor3: {0} ({1:2.2f}%)\".format(num_C3,(num_C3/(num_C1+num_C2+num_C3+num_C4+num_C5+num_C6))*100))\n",
    "print(\"Quantidade de Competidor4: {0} ({1:2.2f}%)\".format(num_C4,(num_C4/(num_C1+num_C2+num_C3+num_C4+num_C5+num_C6))*100))\n",
    "print(\"Quantidade de Competidor5: {0} ({1:2.2f}%)\".format(num_C5,(num_C5/(num_C1+num_C2+num_C3+num_C4+num_C5+num_C6))*100))\n",
    "print(\"Quantidade de Competidor6: {0} ({1:2.2f}%)\".format(num_C6,(num_C6/(num_C1+num_C2+num_C3+num_C4+num_C5+num_C6))*100))"
   ]
  },
  {
   "cell_type": "code",
   "execution_count": 34,
   "metadata": {
    "collapsed": true
   },
   "outputs": [],
   "source": [
    "x=df['COMPETITOR'] \n",
    "y=df['PROD_ID'] "
   ]
  },
  {
   "cell_type": "code",
   "execution_count": 35,
   "metadata": {
    "collapsed": false
   },
   "outputs": [
    {
     "data": {
      "image/png": "[encoded data removed]",
      "text/plain": [
       "<matplotlib.figure.Figure at 0x29e39162e80>"
      ]
     },
     "metadata": {},
     "output_type": "display_data"
    }
   ],
   "source": [
    "x.hist(bins=30)\n",
    "plt.axis((1,7,0,15000))\n",
    "plt.title(\"Distribution of competitor\")\n",
    "plt.ylabel('count of competitor')\n",
    "plt.xlabel('Number of competitor');"
   ]
  },
  {
   "cell_type": "code",
   "execution_count": 36,
   "metadata": {
    "collapsed": false
   },
   "outputs": [
    {
     "data": {
      "image/png": "[encoded data removed]",
      "text/plain": [
       "<matplotlib.figure.Figure at 0x29e38fda898>"
      ]
     },
     "metadata": {},
     "output_type": "display_data"
    }
   ],
   "source": [
    "y.hist(bins=30)\n",
    "plt.axis((1,10,0,15000))\n",
    "plt.title(\"Distribution of products\")\n",
    "plt.ylabel('count of products')\n",
    "plt.xlabel('Id of products');"
   ]
  },
  {
   "cell_type": "code",
   "execution_count": 38,
   "metadata": {
    "collapsed": false
   },
   "outputs": [
    {
     "name": "stdout",
     "output_type": "stream",
     "text": [
      "       PROD_ID      DATE_EXTRACTION  COMPETITOR  COMPETITOR_PRICE  PAY_TYPE\n",
      "17290        1  2015-03-16 20:10:14           5           1424.05         2\n",
      "17291        1  2015-03-16 20:10:14           2           1362.50         2\n",
      "17292        1  2015-03-16 20:10:14           6           1499.00         2\n",
      "17310        1  2015-03-16 08:11:32           5           1499.00         2\n",
      "17311        1  2015-03-16 08:11:32           6           1499.00         2\n",
      "17312        1  2015-06-18 20:10:22           1           1349.10         2\n",
      "17313        1  2015-06-18 20:10:22           2           1259.10         2\n",
      "17314        1  2015-06-18 20:10:22           3           1259.10         2\n",
      "17315        1  2015-06-18 20:10:22           5           1424.05         2\n",
      "17316        1  2015-03-20 08:12:50           1           1499.00         1\n",
      "17317        1  2015-03-20 08:12:50           6           1359.00         1\n",
      "17318        1  2015-03-20 08:12:50           2           1499.00         1\n",
      "17319        1  2015-06-16 20:10:25           2           1499.00         1\n",
      "17320        1  2015-06-16 20:10:25           5           1499.00         1\n",
      "17321        1  2015-06-16 20:10:25           1           1499.00         1\n",
      "17322        1  2015-06-16 20:10:25           3           1499.00         1\n",
      "17323        1  2015-03-19 20:10:15           5           1499.00         1\n",
      "17324        1  2015-03-19 20:10:15           5           1304.13         2\n",
      "17325        1  2015-03-24 08:11:26           2           1403.90         1\n",
      "17326        1  2015-03-24 08:11:26           5           1499.00         1\n",
      "17410        1  2015-03-24 08:11:26           2           1403.90         2\n",
      "17411        1  2015-03-24 08:11:26           5           1424.05         2\n",
      "17412        1  2015-03-24 20:10:17           6           1499.00         1\n",
      "17413        1  2015-03-24 20:10:17           1           1499.00         1\n",
      "17414        1  2015-03-24 20:10:17           5           1499.00         1\n",
      "17415        1  2015-03-24 20:10:17           2           1403.90         1\n",
      "17416        1  2015-03-24 20:10:17           2           1403.90         2\n",
      "17417        1  2015-03-24 20:10:17           1           1499.00         2\n",
      "17418        1  2015-03-24 20:10:17           5           1424.05         2\n",
      "17419        1  2015-03-24 20:10:17           6           1499.00         2\n",
      "...        ...                  ...         ...               ...       ...\n",
      "26527        1  2015-10-08 20:10:26           5           1499.00         1\n",
      "26528        1  2015-10-08 20:10:26           2           1499.00         1\n",
      "26529        1  2015-10-09 08:11:35           5           1349.10         2\n",
      "26530        1  2015-10-09 08:11:35           3           1319.12         2\n",
      "26531        1  2015-10-09 08:11:35           2           1499.00         2\n",
      "26545        1  2015-10-08 08:11:26           1           1319.12         2\n",
      "26546        1  2015-10-08 08:11:26           5           1349.10         2\n",
      "26547        1  2015-10-08 08:11:26           3           1319.12         2\n",
      "26548        1  2015-10-08 08:11:26           2           1499.00         2\n",
      "26549        1  2015-10-09 08:11:35           3           1499.00         1\n",
      "26550        1  2015-10-09 08:11:35           1           1499.00         1\n",
      "26551        1  2015-10-09 08:11:35           5           1499.00         1\n",
      "26552        1  2015-10-09 08:11:35           2           1499.00         1\n",
      "26553        1  2015-10-09 08:11:35           1           1319.12         2\n",
      "26554        1  2015-10-12 08:11:27           1           1499.00         1\n",
      "26555        1  2015-10-12 08:11:27           3           1499.00         1\n",
      "26556        1  2015-10-12 08:11:27           2           1499.00         1\n",
      "26557        1  2015-10-12 08:11:27           5           1499.00         1\n",
      "26558        1  2015-10-10 08:11:33           1           1499.00         1\n",
      "26559        1  2015-10-10 08:11:33           5           1499.00         1\n",
      "26560        1  2015-10-10 08:11:33           3           1499.00         1\n",
      "26561        1  2015-10-10 08:11:33           2           1499.00         1\n",
      "26562        1  2015-10-14 08:11:39           1         149900.00         1\n",
      "26563        1  2015-10-14 08:11:39           2         149900.00         1\n",
      "26564        1  2015-10-14 08:11:39           3         149900.00         1\n",
      "26565        1  2015-10-14 08:11:39           5         149900.00         1\n",
      "26629        1  2015-10-13 08:11:40           5           1349.10         2\n",
      "26630        1  2015-10-13 08:11:40           3           1319.12         2\n",
      "26631        1  2015-10-13 08:11:40           1           1319.12         2\n",
      "26632        1  2015-10-13 08:11:40           2           1499.00         2\n",
      "\n",
      "[2713 rows x 5 columns]\n"
     ]
    }
   ],
   "source": [
    "prod_c1=df[y==1]\n",
    "print(prod_c1)"
   ]
  },
  {
   "cell_type": "code",
   "execution_count": 40,
   "metadata": {
    "collapsed": true
   },
   "outputs": [],
   "source": [
    "df3=prod_c1['COMPETITOR']"
   ]
  },
  {
   "cell_type": "code",
   "execution_count": 41,
   "metadata": {
    "collapsed": false
   },
   "outputs": [
    {
     "name": "stdout",
     "output_type": "stream",
     "text": [
      "17290    5\n",
      "17291    2\n",
      "17292    6\n",
      "17310    5\n",
      "17311    6\n",
      "17312    1\n",
      "17313    2\n",
      "17314    3\n",
      "17315    5\n",
      "17316    1\n",
      "17317    6\n",
      "17318    2\n",
      "17319    2\n",
      "17320    5\n",
      "17321    1\n",
      "17322    3\n",
      "17323    5\n",
      "17324    5\n",
      "17325    2\n",
      "17326    5\n",
      "17410    2\n",
      "17411    5\n",
      "17412    6\n",
      "17413    1\n",
      "17414    5\n",
      "17415    2\n",
      "17416    2\n",
      "17417    1\n",
      "17418    5\n",
      "17419    6\n",
      "        ..\n",
      "26527    5\n",
      "26528    2\n",
      "26529    5\n",
      "26530    3\n",
      "26531    2\n",
      "26545    1\n",
      "26546    5\n",
      "26547    3\n",
      "26548    2\n",
      "26549    3\n",
      "26550    1\n",
      "26551    5\n",
      "26552    2\n",
      "26553    1\n",
      "26554    1\n",
      "26555    3\n",
      "26556    2\n",
      "26557    5\n",
      "26558    1\n",
      "26559    5\n",
      "26560    3\n",
      "26561    2\n",
      "26562    1\n",
      "26563    2\n",
      "26564    3\n",
      "26565    5\n",
      "26629    5\n",
      "26630    3\n",
      "26631    1\n",
      "26632    2\n",
      "Name: COMPETITOR, dtype: int64\n"
     ]
    }
   ],
   "source": [
    "print(df3)"
   ]
  },
  {
   "cell_type": "code",
   "execution_count": 48,
   "metadata": {
    "collapsed": false
   },
   "outputs": [
    {
     "data": {
      "image/png": "[encoded data removed]",
      "text/plain": [
       "<matplotlib.figure.Figure at 0x29e392ba0b8>"
      ]
     },
     "metadata": {},
     "output_type": "display_data"
    }
   ],
   "source": [
    "df3.hist(bins=30)\n",
    "plt.axis((1,10,0,1000))\n",
    "plt.title(\"Distribution dos Competidores\")\n",
    "plt.ylabel('Quantidade de competidores')\n",
    "plt.xlabel('Tipos de Competidores');"
   ]
  },
  {
   "cell_type": "code",
   "execution_count": 59,
   "metadata": {
    "collapsed": false
   },
   "outputs": [],
   "source": [
    "def plot_corr(df, size=10):\n",
    "    corr = df.corr()\n",
    "    fig, ax = plt.subplots(figsize = (size, size))\n",
    "    ax.matshow(corr)\n",
    "    plt.xticks(range(len(corr.columns)), corr.columns)\n",
    "    plt.yticks(range(len(corr.columns)), corr.columns)\n",
    "    \n",
    "    "
   ]
  },
  {
   "cell_type": "code",
   "execution_count": 60,
   "metadata": {
    "collapsed": false
   },
   "outputs": [
    {
     "data": {
      "image/png": "[encoded data removed]",
      "text/plain": [
       "<matplotlib.figure.Figure at 0x243cb5f85f8>"
      ]
     },
     "metadata": {},
     "output_type": "display_data"
    }
   ],
   "source": [
    "plot_corr(df)"
   ]
  },
  {
   "cell_type": "code",
   "execution_count": 61,
   "metadata": {
    "collapsed": false
   },
   "outputs": [
    {
     "data": {
      "text/html": [
       "<div>\n",
       "<table border=\"1\" class=\"dataframe\">\n",
       "  <thead>\n",
       "    <tr style=\"text-align: right;\">\n",
       "      <th></th>\n",
       "      <th>PROD_ID</th>\n",
       "      <th>COMPETITOR</th>\n",
       "      <th>COMPETITOR_PRICE</th>\n",
       "      <th>PAY_TYPE</th>\n",
       "    </tr>\n",
       "  </thead>\n",
       "  <tbody>\n",
       "    <tr>\n",
       "      <th>PROD_ID</th>\n",
       "      <td>1.000000</td>\n",
       "      <td>0.005499</td>\n",
       "      <td>-0.048431</td>\n",
       "      <td>-0.000009</td>\n",
       "    </tr>\n",
       "    <tr>\n",
       "      <th>COMPETITOR</th>\n",
       "      <td>0.005499</td>\n",
       "      <td>1.000000</td>\n",
       "      <td>-0.012172</td>\n",
       "      <td>-0.000006</td>\n",
       "    </tr>\n",
       "    <tr>\n",
       "      <th>COMPETITOR_PRICE</th>\n",
       "      <td>-0.048431</td>\n",
       "      <td>-0.012172</td>\n",
       "      <td>1.000000</td>\n",
       "      <td>-0.003733</td>\n",
       "    </tr>\n",
       "    <tr>\n",
       "      <th>PAY_TYPE</th>\n",
       "      <td>-0.000009</td>\n",
       "      <td>-0.000006</td>\n",
       "      <td>-0.003733</td>\n",
       "      <td>1.000000</td>\n",
       "    </tr>\n",
       "  </tbody>\n",
       "</table>\n",
       "</div>"
      ],
      "text/plain": [
       "                   PROD_ID  COMPETITOR  COMPETITOR_PRICE  PAY_TYPE\n",
       "PROD_ID           1.000000    0.005499         -0.048431 -0.000009\n",
       "COMPETITOR        0.005499    1.000000         -0.012172 -0.000006\n",
       "COMPETITOR_PRICE -0.048431   -0.012172          1.000000 -0.003733\n",
       "PAY_TYPE         -0.000009   -0.000006         -0.003733  1.000000"
      ]
     },
     "execution_count": 61,
     "metadata": {},
     "output_type": "execute_result"
    }
   ],
   "source": [
    "df.corr()"
   ]
  },
  {
   "cell_type": "code",
   "execution_count": 71,
   "metadata": {
    "collapsed": false
   },
   "outputs": [],
   "source": [
    "#medidas de tendências centrais\n",
    "#moda\n",
    "#produto P1 é mais comprado \n",
    "#x=df['COMPETITOR'] \n",
    "#y=df['PROD_ID']\n",
    "m=x\n",
    "moda=lambda m: (m.mode())\n",
    "    "
   ]
  },
  {
   "cell_type": "code",
   "execution_count": 72,
   "metadata": {
    "collapsed": false
   },
   "outputs": [
    {
     "name": "stdout",
     "output_type": "stream",
     "text": [
      "0    1\n",
      "dtype: int64\n"
     ]
    }
   ],
   "source": [
    "print(moda(m))\n",
    "#competidor 1 é o que mais compra (vende)"
   ]
  },
  {
   "cell_type": "code",
   "execution_count": 74,
   "metadata": {
    "collapsed": false
   },
   "outputs": [],
   "source": [
    "n=y\n",
    "moda=lambda n: (n.mode())\n",
    "\n",
    "#produto 6 é o mais vendido"
   ]
  },
  {
   "cell_type": "code",
   "execution_count": 75,
   "metadata": {
    "collapsed": false
   },
   "outputs": [
    {
     "name": "stdout",
     "output_type": "stream",
     "text": [
      "0    6\n",
      "dtype: int64\n"
     ]
    }
   ],
   "source": [
    "print(moda(n))\n"
   ]
  },
  {
   "cell_type": "code",
   "execution_count": 77,
   "metadata": {
    "collapsed": false
   },
   "outputs": [],
   "source": [
    "z=df['COMPETITOR_PRICE']"
   ]
  },
  {
   "cell_type": "code",
   "execution_count": 78,
   "metadata": {
    "collapsed": false
   },
   "outputs": [
    {
     "name": "stdout",
     "output_type": "stream",
     "text": [
      "0         1898.00\n",
      "1         1898.00\n",
      "2         1999.90\n",
      "3         1894.88\n",
      "4         1894.88\n",
      "5         1894.88\n",
      "6         1999.90\n",
      "7         1896.62\n",
      "8         2199.00\n",
      "9         1895.98\n",
      "10        2099.00\n",
      "11        1898.00\n",
      "12        1599.00\n",
      "13        1439.10\n",
      "14        1858.00\n",
      "15        2379.87\n",
      "16        1439.10\n",
      "17        1885.90\n",
      "18        1859.00\n",
      "19        1999.00\n",
      "20        1869.15\n",
      "21        2155.02\n",
      "22        1885.90\n",
      "23        1859.00\n",
      "24        1994.00\n",
      "25        1998.00\n",
      "26        2199.00\n",
      "27        1994.00\n",
      "28        1994.00\n",
      "29        1999.00\n",
      "           ...   \n",
      "50084      819.00\n",
      "50085      853.52\n",
      "50086      849.00\n",
      "50087      853.52\n",
      "50088      849.00\n",
      "50089      849.00\n",
      "50090      853.52\n",
      "50091      849.00\n",
      "50092      849.00\n",
      "50093      853.52\n",
      "50094      848.89\n",
      "50095      848.89\n",
      "50096      853.52\n",
      "50097      819.00\n",
      "50098      848.89\n",
      "50099      848.89\n",
      "50100      853.52\n",
      "50101      819.00\n",
      "50102    84890.00\n",
      "50103    81900.00\n",
      "50104    81900.00\n",
      "50105    84890.00\n",
      "50106    81900.00\n",
      "50107    81900.00\n",
      "50108      819.00\n",
      "50109      819.00\n",
      "50110      853.52\n",
      "50111      853.52\n",
      "50112      819.00\n",
      "50113      819.00\n",
      "Name: COMPETITOR_PRICE, dtype: float64\n"
     ]
    }
   ],
   "source": [
    "print(z)"
   ]
  },
  {
   "cell_type": "code",
   "execution_count": 92,
   "metadata": {
    "collapsed": true
   },
   "outputs": [],
   "source": [
    "#media de preços\n",
    "p=df['COMPETITOR_PRICE']\n",
    "media_price= lambda p: (p.mean())"
   ]
  },
  {
   "cell_type": "code",
   "execution_count": 93,
   "metadata": {
    "collapsed": false
   },
   "outputs": [
    {
     "name": "stdout",
     "output_type": "stream",
     "text": [
      "1111.2814486969246\n"
     ]
    }
   ],
   "source": [
    "print(media_price(p))"
   ]
  },
  {
   "cell_type": "code",
   "execution_count": 94,
   "metadata": {
    "collapsed": false
   },
   "outputs": [
    {
     "name": "stdout",
     "output_type": "stream",
     "text": [
      "799.0\n"
     ]
    }
   ],
   "source": [
    "print(p.median())"
   ]
  },
  {
   "cell_type": "code",
   "execution_count": 13,
   "metadata": {
    "collapsed": false
   },
   "outputs": [
    {
     "data": {
      "image/png": "[encoded data removed]",
      "text/plain": [
       "<matplotlib.figure.Figure at 0x1e0b62ea438>"
      ]
     },
     "metadata": {},
     "output_type": "display_data"
    }
   ],
   "source": [
    "df4=df['PAY_TYPE']\n",
    "df4.hist(bins=30)\n",
    "plt.axis((0,3,0,30000))\n",
    "plt.title(\"Distribution of Pay type\")\n",
    "plt.ylabel('Count of pay')\n",
    "plt.xlabel('Type of Pay');"
   ]
  },
  {
   "cell_type": "code",
   "execution_count": 83,
   "metadata": {
    "collapsed": true
   },
   "outputs": [],
   "source": [
    "m=df['PAY_TYPE']\n",
    "moda= lambda m: (m.mode())"
   ]
  },
  {
   "cell_type": "code",
   "execution_count": 84,
   "metadata": {
    "collapsed": false
   },
   "outputs": [
    {
     "name": "stdout",
     "output_type": "stream",
     "text": [
      "0    1\n",
      "dtype: int64\n"
     ]
    }
   ],
   "source": [
    "print(moda(m))\n",
    "#tipo 1 de pagamento é o mais realizado"
   ]
  },
  {
   "cell_type": "code",
   "execution_count": 86,
   "metadata": {
    "collapsed": false
   },
   "outputs": [
    {
     "name": "stdout",
     "output_type": "stream",
     "text": [
      "149540.9\n"
     ]
    }
   ],
   "source": [
    "#amplitude competitor_price\n",
    "print(df['COMPETITOR_PRICE'].max()-df['COMPETITOR_PRICE'].min())\n",
    "#valores da série distribuídos de forma afastada, amplitude alta"
   ]
  },
  {
   "cell_type": "code",
   "execution_count": 102,
   "metadata": {
    "collapsed": false
   },
   "outputs": [
    {
     "name": "stdout",
     "output_type": "stream",
     "text": [
      "3805.6134997751665\n"
     ]
    }
   ],
   "source": [
    "# média tende ao terceiro quartil, isso ocorre devido aos outliers existentes na amostra.\n",
    "#esse dado fica mais nítido ao olharmos o desvio padrão mostrando que há uma irregularidade na série \n",
    "#o proximo passo é realizar o desvio padrão para verificar a tendência da curva de variancia\n",
    "\n",
    "print(df['COMPETITOR_PRICE'].std())"
   ]
  },
  {
   "cell_type": "code",
   "execution_count": 103,
   "metadata": {
    "collapsed": false
   },
   "outputs": [
    {
     "name": "stdout",
     "output_type": "stream",
     "text": [
      "600.9411609329968\n"
     ]
    }
   ],
   "source": [
    "# amedida de dispersão acima mostra o quanto os dados estão afastados da média, sendo assim realizei a\n",
    "#desvio absoluto que retornará uma medida menos influenciada por amostras extremas.\n",
    "\n",
    "\n",
    "print(df['COMPETITOR_PRICE'].mad())\n"
   ]
  },
  {
   "cell_type": "code",
   "execution_count": 106,
   "metadata": {
    "collapsed": false
   },
   "outputs": [
    {
     "name": "stdout",
     "output_type": "stream",
     "text": [
      "count     50114.000000\n",
      "mean       1111.281449\n",
      "std        3805.613500\n",
      "min         359.100000\n",
      "25%         549.000000\n",
      "50%         799.000000\n",
      "75%        1359.000000\n",
      "max      149900.000000\n",
      "Name: COMPETITOR_PRICE, dtype: float64\n"
     ]
    }
   ],
   "source": [
    "print(df['COMPETITOR_PRICE'].describe())"
   ]
  },
  {
   "cell_type": "code",
   "execution_count": 37,
   "metadata": {
    "collapsed": false
   },
   "outputs": [
    {
     "data": {
      "image/png": "[encoded data removed]",
      "text/plain": [
       "<matplotlib.figure.Figure at 0x1e0cdd69f98>"
      ]
     },
     "metadata": {},
     "output_type": "display_data"
    }
   ],
   "source": [
    "#distribuíção normal\n",
    "import seaborn as sns # importando seaborn\n",
    "sns.set_palette(\"deep\", desat=.6)\n",
    "sns.set_context(rc={\"figure.figsize\": (8, 4)})\n",
    "\n",
    "mu, sigma = 799, 3805.6134997751665 \n",
    "s = df['COMPETITOR_PRICE']\n",
    "\n",
    "conta, box, ignorar = plt.hist(s, 90, normed=True)\n",
    "normal = plt.plot(box, 1/(sigma * np.sqrt(2 * np.pi)) *\n",
    "         np.exp( - (box - mu)**2 / (2 * sigma**2) ),\n",
    "         linewidth=2, color='r')"
   ]
  },
  {
   "cell_type": "code",
   "execution_count": 33,
   "metadata": {
    "collapsed": false
   },
   "outputs": [
    {
     "name": "stdout",
     "output_type": "stream",
     "text": [
      "Axes(0.125,0.125;0.775x0.755)\n"
     ]
    },
    {
     "data": {
      "image/png": "[encoded data removed]",
      "text/plain": [
       "<matplotlib.figure.Figure at 0x1e0b6328438>"
      ]
     },
     "metadata": {},
     "output_type": "display_data"
    }
   ],
   "source": [
    "print(df['COMPETITOR_PRICE'].hist(bins=10000))"
   ]
  },
  {
   "cell_type": "code",
   "execution_count": 122,
   "metadata": {
    "collapsed": true
   },
   "outputs": [],
   "source": [
    "#há poucos valores extremos sendo assim a melhor medida para representar a amostra é a mediana"
   ]
  },
  {
   "cell_type": "code",
   "execution_count": 127,
   "metadata": {
    "collapsed": false
   },
   "outputs": [
    {
     "data": {
      "text/plain": [
       "<matplotlib.axes._subplots.AxesSubplot at 0x24880819e48>"
      ]
     },
     "execution_count": 127,
     "metadata": {},
     "output_type": "execute_result"
    },
    {
     "data": {
      "image/png": "[encoded data removed]",
      "text/plain": [
       "<matplotlib.figure.Figure at 0x24882654278>"
      ]
     },
     "metadata": {},
     "output_type": "display_data"
    }
   ],
   "source": [
    "plt.axis((0,10,0,3000))\n",
    "df.boxplot(column='COMPETITOR_PRICE')"
   ]
  },
  {
   "cell_type": "code",
   "execution_count": 128,
   "metadata": {
    "collapsed": false
   },
   "outputs": [
    {
     "data": {
      "text/plain": [
       "PROD_ID             0\n",
       "DATE_EXTRACTION     0\n",
       "COMPETITOR          0\n",
       "COMPETITOR_PRICE    0\n",
       "PAY_TYPE            0\n",
       "dtype: int64"
      ]
     },
     "execution_count": 128,
     "metadata": {},
     "output_type": "execute_result"
    }
   ],
   "source": [
    "df.apply(lambda x: sum(x.isnull()),axis=0)"
   ]
  },
  {
   "cell_type": "code",
   "execution_count": 38,
   "metadata": {
    "collapsed": true
   },
   "outputs": [],
   "source": [
    "#tratando os valores extremos da amostra\n",
    "df['COMPETITOR_PRICE_LOG'] = np.log(df['COMPETITOR_PRICE']) "
   ]
  },
  {
   "cell_type": "code",
   "execution_count": 40,
   "metadata": {
    "collapsed": false
   },
   "outputs": [
    {
     "data": {
      "image/png": "[encoded data removed]",
      "text/plain": [
       "<matplotlib.figure.Figure at 0x1e0c1cbef60>"
      ]
     },
     "metadata": {},
     "output_type": "display_data"
    }
   ],
   "source": [
    "#distribuíção normal\n",
    "import seaborn as sns # importando seaborn\n",
    "sns.set_palette(\"deep\", desat=.6)\n",
    "sns.set_context(rc={\"figure.figsize\": (8, 4)})\n",
    "\n",
    "mu, sigma = 0, 0.1 \n",
    "s = df['COMPETITOR_PRICE_LOG']\n",
    "\n",
    "conta, box, ignorar = plt.hist(s, 90, normed=True)\n",
    "normal = plt.plot(box, 1/(sigma * np.sqrt(2 * np.pi)) *\n",
    "         np.exp( - (box - mu)**2 / (2 * sigma**2) ),\n",
    "         linewidth=2, color='r')"
   ]
  },
  {
   "cell_type": "code",
   "execution_count": 136,
   "metadata": {
    "collapsed": false
   },
   "outputs": [
    {
     "name": "stdout",
     "output_type": "stream",
     "text": [
      "count    50114.000000\n",
      "mean         6.764516\n",
      "std          0.531489\n",
      "min          5.883601\n",
      "25%          6.308098\n",
      "50%          6.683361\n",
      "75%          7.214504\n",
      "max         11.917724\n",
      "Name: COMPETITOR_PRICE_LOG, dtype: float64\n"
     ]
    }
   ],
   "source": [
    "print(df['COMPETITOR_PRICE_LOG'].describe())"
   ]
  },
  {
   "cell_type": "code",
   "execution_count": 46,
   "metadata": {
    "collapsed": false
   },
   "outputs": [
    {
     "data": {
      "text/plain": [
       "LinregressResult(slope=-3040.4256248192569, intercept=44694.179435722646, rvalue=-0.088306620160246499, pvalue=2.6078797710859254e-87, stderr=153.20406520843724)"
      ]
     },
     "execution_count": 46,
     "metadata": {},
     "output_type": "execute_result"
    }
   ],
   "source": [
    "#regressão linear\n",
    "x = df['COMPETITOR']\n",
    "y = df['COMPETITOR_PRICE']\n",
    "from scipy.stats import linregress\n",
    "\n",
    "linregress(x,y)\n"
   ]
  },
  {
   "cell_type": "code",
   "execution_count": 47,
   "metadata": {
    "collapsed": false
   },
   "outputs": [
    {
     "name": "stdout",
     "output_type": "stream",
     "text": [
      "-3040.42562482\n",
      "44694.1794357\n",
      "-0.0883066201602\n",
      "2.60787977109e-87\n",
      "153.204065208\n"
     ]
    }
   ],
   "source": [
    "from scipy import stats\n",
    "slope, intercept, r_value, p_value, std_err = stats.linregress(x,y)\n",
    "print (slope)\n",
    "print (intercept)\n",
    "print (r_value)\n",
    "print (p_value)\n",
    "print (std_err)"
   ]
  },
  {
   "cell_type": "code",
   "execution_count": 47,
   "metadata": {
    "collapsed": true
   },
   "outputs": [],
   "source": [
    "df5=df['COMPETITOR_PRICE']"
   ]
  },
  {
   "cell_type": "code",
   "execution_count": 54,
   "metadata": {
    "collapsed": false
   },
   "outputs": [
    {
     "data": {
      "image/png": "[encoded data removed]",
      "text/plain": [
       "<matplotlib.figure.Figure at 0x29e39f545c0>"
      ]
     },
     "metadata": {},
     "output_type": "display_data"
    }
   ],
   "source": [
    "df4.hist(bins=30)\n",
    "plt.axis((0,3,0,50000))\n",
    "plt.title(\"Distribution dos Competidores\")\n",
    "plt.ylabel('Quantidade de competidores')\n",
    "plt.xlabel('Tipos de Competidores');"
   ]
  },
  {
   "cell_type": "code",
   "execution_count": 59,
   "metadata": {
    "collapsed": false
   },
   "outputs": [],
   "source": [
    "s=df4\n",
    "def conta_ocorrencias(s):\n",
    "    ocorrencias = {}\n",
    "    for c in s:\n",
    "        if c in ocorrencias:\n",
    "            ocorrencias[c] = ocorrencias[c] + 1\n",
    "        else:\n",
    "            ocorrencias[c] = 1\n",
    "    return ocorrencias"
   ]
  },
  {
   "cell_type": "code",
   "execution_count": 61,
   "metadata": {
    "collapsed": false
   },
   "outputs": [
    {
     "name": "stdout",
     "output_type": "stream",
     "text": [
      "{1: 25072, 2: 25042}\n"
     ]
    }
   ],
   "source": [
    "print(conta_ocorrencias(s))"
   ]
  },
  {
   "cell_type": "code",
   "execution_count": 64,
   "metadata": {
    "collapsed": true
   },
   "outputs": [],
   "source": [
    "df6=df['PROD_ID']\n"
   ]
  },
  {
   "cell_type": "code",
   "execution_count": 65,
   "metadata": {
    "collapsed": true
   },
   "outputs": [],
   "source": [
    "s=df6\n",
    "def conta_ocorrencias(s):\n",
    "    ocorrencias = {}\n",
    "    for c in s:\n",
    "        if c in ocorrencias:\n",
    "            ocorrencias[c] = ocorrencias[c] + 1\n",
    "        else:\n",
    "            ocorrencias[c] = 1\n",
    "    return ocorrencias"
   ]
  },
  {
   "cell_type": "code",
   "execution_count": 66,
   "metadata": {
    "collapsed": false
   },
   "outputs": [
    {
     "name": "stdout",
     "output_type": "stream",
     "text": [
      "{6: 9542, 7: 7748, 1: 2713, 2: 8755, 8: 5795, 9: 6123, 3: 5853, 4: 1689, 5: 1896}\n"
     ]
    }
   ],
   "source": [
    "print(conta_ocorrencias(s))"
   ]
  },
  {
   "cell_type": "code",
   "execution_count": 67,
   "metadata": {
    "collapsed": true
   },
   "outputs": [],
   "source": [
    "df7= df['DATE_EXTRACTION']"
   ]
  },
  {
   "cell_type": "code",
   "execution_count": 68,
   "metadata": {
    "collapsed": true
   },
   "outputs": [],
   "source": [
    "s=df7\n",
    "def conta_ocorrencias(s):\n",
    "    ocorrencias = {}\n",
    "    for c in s:\n",
    "        if c in ocorrencias:\n",
    "            ocorrencias[c] = ocorrencias[c] + 1\n",
    "        else:\n",
    "            ocorrencias[c] = 1\n",
    "    return ocorrencias"
   ]
  },
  {
   "cell_type": "code",
   "execution_count": 69,
   "metadata": {
    "collapsed": false
   },
   "outputs": [
    {
     "name": "stdout",
     "output_type": "stream",
     "text": [
      "{'2015-01-30 08:11:38': 22, '2015-01-31 20:10:14': 24, '2015-01-31 20:10:05': 10, '2015-03-16 20:10:05': 30, '2015-02-17 08:10:23': 40, '2015-02-17 08:11:34': 56, '2015-02-12 20:10:24': 30, '2015-02-12 08:10:24': 18, '2015-02-12 20:10:05': 20, '2015-03-05 20:10:19': 16, '2015-03-06 08:10:22': 18, '2015-02-18 08:10:23': 20, '2015-02-18 08:11:55': 28, '2015-02-18 20:10:15': 28, '2015-02-19 08:11:24': 28, '2015-02-19 20:10:15': 28, '2015-03-09 20:10:04': 20, '2015-03-09 20:10:13': 28, '2015-01-09 08:10:25': 12, '2015-01-09 20:10:14': 30, '2015-01-08 20:10:05': 24, '2015-03-13 20:10:05': 20, '2015-02-07 20:11:27': 26, '2015-01-15 20:10:14': 26, '2015-01-18 08:11:42': 26, '2015-01-14 08:39:50': 30, '2015-01-20 20:10:05': 12, '2015-01-22 20:10:13': 26, '2015-01-20 20:10:13': 32, '2015-01-13 20:10:15': 24, '2015-01-16 20:10:13': 26, '2015-01-21 08:10:23': 12, '2015-01-28 08:10:21': 12, '2015-03-24 20:10:17': 48, '2015-03-13 20:10:14': 28, '2015-03-16 20:10:14': 48, '2015-02-03 08:10:22': 10, '2015-02-04 08:11:34': 28, '2015-02-04 08:10:22': 12, '2015-02-08 20:10:05': 18, '2015-02-23 20:10:06': 20, '2015-02-17 20:10:04': 40, '2015-02-17 20:10:12': 56, '2015-02-18 20:10:05': 22, '2015-01-14 08:38:27': 10, '2015-01-19 08:10:22': 12, '2015-01-13 20:10:05': 10, '2015-01-14 20:10:14': 24, '2015-02-13 20:10:05': 22, '2015-02-16 20:10:13': 60, '2015-02-14 08:11:40': 64, '2015-02-16 20:10:04': 20, '2015-06-18 20:10:22': 78, '2015-02-11 08:11:28': 24, '2015-02-12 08:11:35': 26, '2015-02-07 20:10:22': 18, '2015-02-08 20:10:14': 26, '2015-02-06 20:10:05': 18, '2015-02-08 08:10:22': 18, '2015-01-08 20:10:13': 60, '2015-03-20 08:12:50': 52, '2015-01-24 08:11:29': 28, '2015-01-21 08:11:36': 32, '2015-01-18 08:10:30': 12, '2015-01-23 08:11:27': 26, '2015-01-12 08:11:24': 26, '2015-01-20 08:10:23': 12, '2015-01-14 20:10:05': 10, '2015-01-28 20:10:05': 10, '2015-02-19 08:10:22': 20, '2015-02-23 08:10:22': 20, '2015-02-23 08:11:24': 28, '2015-02-28 08:11:39': 30, '2015-02-28 08:10:23': 22, '2015-03-05 20:11:17': 56, '2015-03-09 08:14:40': 28, '2015-01-26 20:10:16': 28, '2015-01-24 08:10:23': 12, '2015-01-24 20:10:14': 28, '2015-01-25 08:10:22': 10, '2015-02-16 08:11:27': 30, '2015-02-15 22:54:05': 32, '2015-06-16 20:10:08': 42, '2015-03-13 08:12:43': 28, '2015-02-27 20:10:10': 18, '2015-02-27 20:11:15': 28, '2015-02-08 08:11:33': 26, '2015-02-07 08:10:22': 20, '2015-02-11 20:10:05': 18, '2015-02-11 20:10:22': 26, '2015-03-19 20:10:15': 42, '2015-03-19 08:10:22': 26, '2015-03-19 20:10:06': 26, '2015-01-31 08:11:55': 26, '2015-01-09 08:11:45': 26, '2015-01-09 20:10:05': 12, '2015-02-03 20:11:16': 30, '2015-02-03 20:10:05': 12, '2015-01-26 08:11:32': 26, '2015-01-13 08:12:00': 32, '2015-01-28 20:10:13': 26, '2015-01-12 20:10:14': 28, '2015-01-24 20:10:05': 12, '2015-01-16 08:10:22': 10, '2015-03-09 08:10:30': 22, '2015-02-13 08:11:26': 30, '2015-02-15 22:53:56': 22, '2015-02-16 08:10:22': 20, '2015-03-13 08:10:21': 18, '2015-02-20 20:10:05': 20, '2015-03-24 08:11:26': 44, '2015-03-24 08:10:22': 26, '2015-02-27 08:11:24': 30, '2015-03-05 08:10:24': 18, '2015-03-05 08:12:46': 30, '2015-02-06 08:11:58': 26, '2015-02-11 08:10:22': 18, '2015-01-30 08:10:20': 12, '2015-01-30 20:10:05': 10, '2015-01-30 20:10:13': 24, '2015-01-21 20:10:05': 12, '2015-01-22 20:10:05': 12, '2015-01-19 08:11:27': 26, '2015-02-22 20:10:14': 30, '2015-02-22 20:10:05': 22, '2015-02-27 08:10:21': 20, '2015-02-26 20:10:26': 28, '2015-03-16 08:11:32': 46, '2015-02-20 08:10:22': 18, '2015-02-20 20:10:13': 28, '2015-02-14 08:10:22': 22, '2015-03-08 15:03:47': 20, '2015-03-08 15:04:55': 26, '2015-01-15 20:10:05': 12, '2015-01-13 08:10:21': 10, '2015-02-03 08:11:47': 26, '2015-02-02 20:10:05': 10, '2015-02-10 20:10:05': 18, '2015-02-10 08:10:22': 20, '2015-02-06 08:10:22': 12, '2015-01-22 08:10:22': 12, '2015-01-23 08:10:21': 12, '2015-03-23 20:11:36': 46, '2015-08-12 08:10:23': 44, '2015-08-11 08:10:22': 40, '2015-02-26 20:10:15': 20, '2015-02-10 20:10:15': 24, '2015-01-25 20:10:06': 12, '2015-02-07 08:11:33': 26, '2015-03-19 08:12:34': 46, '2015-01-08 08:10:22': 20, '2015-01-08 08:11:26': 56, '2015-02-02 20:10:15': 24, '2015-01-12 08:10:21': 6, '2015-02-19 20:10:05': 20, '2015-02-13 20:10:15': 32, '2015-02-26 08:11:25': 28, '2015-01-26 08:10:20': 10, '2015-02-02 08:11:32': 24, '2015-02-02 08:10:22': 10, '2015-01-25 08:11:33': 28, '2015-01-27 08:10:26': 10, '2015-01-15 08:10:27': 10, '2015-01-12 20:10:05': 10, '2015-01-17 20:11:22': 26, '2015-01-19 20:10:05': 12, '2015-02-13 08:10:23': 20, '2015-03-08 20:11:35': 26, '2015-02-26 08:10:22': 20, '2015-02-10 08:12:19': 28, '2015-01-27 20:10:05': 12, '2015-01-27 20:10:15': 32, '2015-02-06 20:10:14': 26, '2015-01-22 08:11:58': 32, '2015-01-16 08:11:27': 24, '2015-01-15 08:11:59': 26, '2015-01-29 20:11:41': 22, '2015-01-11 20:10:05': 6, '2015-01-11 20:10:14': 26, '2015-02-01 20:10:05': 10, '2015-02-01 20:10:14': 24, '2015-01-28 08:11:39': 30, '2015-08-14 20:10:07': 42, '2015-03-16 08:10:22': 30, '2015-03-12 20:11:32': 28, '2015-02-20 08:11:42': 28, '2015-08-10 20:10:07': 44, '2015-08-11 20:10:19': 76, '2015-02-09 20:10:04': 18, '2015-02-09 20:10:17': 26, '2015-03-08 20:10:22': 20, '2015-01-29 20:10:23': 10, '2015-01-29 14:50:48': 24, '2015-01-25 20:10:15': 28, '2015-01-18 20:10:05': 12, '2015-01-17 20:10:21': 12, '2015-01-23 20:10:13': 26, '2015-02-05 20:10:22': 10, '2015-02-05 20:11:34': 26, '2015-03-12 20:10:21': 20, '2015-03-12 08:10:26': 20, '2015-08-10 08:11:36': 74, '2015-08-10 08:10:23': 40, '2015-06-18 20:10:08': 42, '2015-06-18 08:10:30': 42, '2015-02-25 20:10:15': 28, '2015-02-25 20:10:05': 20, '2015-03-04 08:10:22': 20, '2015-03-04 20:10:14': 28, '2015-03-04 20:10:05': 16, '2015-03-04 08:12:00': 30, '2015-01-29 14:47:51': 12, '2015-01-18 20:10:13': 26, '2015-01-23 20:10:05': 10, '2015-03-12 08:11:39': 30, '2015-03-18 20:10:08': 26, '2015-03-08 08:11:29': 26, '2015-02-09 08:11:32': 28, '2015-02-09 08:10:21': 20, '2015-08-11 08:11:24': 72, '2015-08-09 20:10:08': 40, '2015-08-09 20:10:28': 72, '2015-02-22 08:10:21': 20, '2015-02-22 08:11:24': 28, '2015-01-26 20:10:06': 10, '2015-02-05 08:11:46': 32, '2015-01-20 08:11:35': 24, '2015-01-10 08:11:44': 26, '2015-02-01 08:11:30': 24, '2015-02-05 08:10:21': 12, '2015-03-18 20:10:25': 48, '2015-01-03 08:10:21': 12, '2015-01-03 08:11:32': 22, '2015-01-03 20:10:05': 12, '2015-01-04 20:10:13': 22, '2015-01-04 20:10:05': 12, '2015-01-04 08:11:21': 22, '2015-01-05 20:10:17': 40, '2015-01-05 20:10:06': 20, '2015-01-05 08:10:25': 20, '2015-01-06 20:10:15': 28, '2015-01-06 20:10:05': 6, '2015-01-07 20:10:05': 10, '2015-01-07 20:10:14': 30, '2015-03-22 08:10:23': 26, '2015-01-16 20:10:05': 12, '2015-03-21 20:11:40': 44, '2015-02-21 20:10:05': 20, '2015-01-01 08:10:25': 10, '2015-01-01 08:11:43': 22, '2015-01-02 08:11:32': 22, '2015-01-02 08:10:22': 10, '2015-02-25 08:12:01': 30, '2015-02-25 08:10:25': 22, '2015-01-04 08:10:21': 12, '2015-01-05 08:11:41': 44, '2015-03-15 20:11:25': 46, '2015-03-15 20:10:21': 22, '2015-01-06 08:11:31': 24, '2015-03-23 20:10:23': 26, '2015-03-03 19:45:01': 18, '2015-03-03 19:46:05': 26, '2015-03-07 20:10:18': 26, '2015-03-11 20:10:05': 22, '2015-03-11 20:10:14': 28, '2015-02-01 08:10:21': 10, '2015-01-10 08:10:24': 10, '2015-02-04 20:10:21': 32, '2015-02-04 20:10:10': 12, '2015-03-21 20:10:16': 26, '2015-01-01 20:10:05': 10, '2015-01-01 20:10:13': 24, '2015-01-02 20:10:13': 24, '2015-01-02 20:10:04': 10, '2015-02-21 20:10:14': 28, '2015-01-03 20:10:14': 22, '2015-01-06 08:10:24': 10, '2015-01-07 08:10:21': 10, '2015-01-07 08:11:50': 24, '2015-08-09 08:11:35': 74, '2015-06-18 08:11:39': 80, '2015-01-21 20:10:13': 32, '2015-03-02 09:22:29': 28, '2015-03-07 20:10:05': 20, '2015-03-18 08:11:51': 42, '2015-03-18 08:10:30': 22, '2015-01-31 08:10:22': 10, '2015-03-21 08:10:22': 26, '2015-03-21 08:11:35': 48, '2015-01-27 08:11:33': 24, '2015-01-19 20:10:15': 24, '2015-04-11 08:11:25': 48, '2015-04-05 20:10:06': 24, '2015-06-09 20:11:22': 72, '2015-06-09 20:10:18': 44, '2015-02-21 08:10:21': 20, '2015-02-21 08:11:33': 28, '2015-02-24 20:10:20': 30, '2015-02-24 20:10:08': 22, '2015-03-02 09:21:31': 18, '2015-03-07 08:12:26': 28, '2015-03-07 08:10:48': 22, '2015-03-11 08:10:22': 22, '2015-03-11 08:11:27': 30, '2015-03-15 09:33:47': 30, '2015-03-15 09:32:44': 22, '2015-03-23 08:10:25': 26, '2015-03-23 08:11:29': 44, '2015-04-09 20:37:41': 24, '2015-04-02 20:10:06': 26, '2015-04-07 08:11:24': 52, '2015-04-07 08:10:22': 24, '2015-04-04 08:10:21': 26, '2015-04-04 08:11:31': 52, '2015-04-07 20:10:14': 52, '2015-04-13 20:10:19': 50, '2015-04-15 20:10:17': 52, '2015-04-17 20:11:51': 44, '2015-04-24 20:10:16': 44, '2015-04-24 20:10:08': 24, '2015-05-20 20:10:27': 78, '2015-04-26 20:10:15': 48, '2015-04-28 20:10:14': 22, '2015-04-30 20:10:19': 44, '2015-05-19 08:10:24': 46, '2015-05-03 20:10:18': 44, '2015-05-23 08:10:24': 46, '2015-05-23 08:11:23': 74, '2015-05-05 20:10:14': 44, '2015-05-05 20:10:25': 76, '2015-05-07 20:10:17': 70, '2015-05-08 20:10:32': 44, '2015-05-08 08:12:01': 70, '2015-05-17 08:10:24': 46, '2015-05-14 20:10:06': 54, '2015-05-14 08:10:24': 46, '2015-05-27 20:10:28': 76, '2015-05-10 20:10:21': 72, '2015-05-10 20:10:08': 42, '2015-05-09 08:10:24': 44, '2015-05-30 08:11:31': 76, '2015-05-30 08:10:27': 46, '2015-05-12 20:10:29': 40, '2015-06-01 08:11:25': 74, '2015-06-03 08:11:37': 74, '2015-06-03 08:10:26': 48, '2015-04-03 20:10:14': 52, '2015-03-27 08:10:13': 46, '2015-03-29 08:11:24': 44, '2015-03-31 08:11:25': 44, '2015-03-31 08:10:22': 26, '2015-03-30 20:10:05': 28, '2015-04-02 08:12:55': 44, '2015-04-01 20:10:15': 44, '2015-04-02 08:11:05': 26, '2015-03-06 20:10:14': 26, '2015-03-10 20:10:18': 22, '2015-03-10 20:11:09': 30, '2015-03-14 20:12:32': 28, '2015-03-14 20:10:22': 20, '2015-03-17 20:10:22': 24, '2015-03-17 20:11:30': 42, '2015-03-20 20:10:05': 26, '2015-05-03 20:10:09': 22, '2015-05-03 08:10:25': 24, '2015-04-13 11:52:45': 52, '2015-04-13 20:10:07': 24, '2015-04-15 20:10:08': 24, '2015-04-17 20:10:12': 22, '2015-04-17 08:10:49': 22, '2015-04-19 20:10:07': 18, '2015-04-20 08:11:26': 42, '2015-04-20 20:10:21': 44, '2015-04-20 20:10:10': 18, '2015-04-28 08:11:23': 42, '2015-04-28 08:10:23': 22, '2015-04-22 08:10:27': 22, '2015-04-22 08:11:38': 48, '2015-04-22 20:10:07': 22, '2015-05-19 08:11:27': 76, '2015-05-18 08:11:24': 72, '2015-04-24 08:11:36': 83, '2015-04-24 08:10:30': 24, '2015-04-26 08:11:21': 46, '2015-04-26 20:10:07': 24, '2015-05-22 20:10:22': 46, '2015-05-02 20:10:22': 46, '2015-05-05 08:10:24': 40, '2015-05-05 08:11:53': 76, '2015-05-27 20:10:06': 48, '2015-05-29 20:10:27': 74, '2015-05-29 20:10:07': 48, '2015-05-09 08:11:25': 72, '2015-06-01 08:10:24': 46, '2015-05-12 20:11:32': 70, '2015-05-14 20:10:17': 70, '2015-05-16 08:11:29': 70, '2015-05-17 20:10:23': 72, '2015-04-11 08:10:24': 20, '2015-03-29 08:10:21': 26, '2015-03-30 20:10:15': 44, '2015-02-24 08:10:21': 20, '2015-02-24 08:11:24': 28, '2015-03-01 00:24:28': 18, '2015-03-01 10:51:37': 20, '2015-03-01 10:52:11': 28, '2015-03-01 00:24:37': 28, '2015-03-06 20:10:06': 20, '2015-03-10 08:11:57': 24, '2015-03-20 20:11:02': 44, '2015-03-22 20:10:17': 46, '2015-03-22 20:10:07': 26, '2015-03-27 08:10:05': 24, '2015-03-26 08:10:22': 28, '2015-04-17 08:12:00': 48, '2015-04-19 08:11:22': 42, '2015-04-18 20:10:19': 44, '2015-04-19 08:10:22': 18, '2015-04-20 08:10:23': 18, '2015-04-21 08:11:20': 44, '2015-04-21 20:10:09': 22, '2015-05-03 08:11:26': 46, '2015-04-26 08:10:23': 24, '2015-04-29 20:10:17': 44, '2015-04-30 20:10:08': 22, '2015-04-30 08:11:26': 42, '2015-04-30 08:10:24': 24, '2015-05-02 20:10:06': 24, '2015-05-02 08:11:22': 46, '2015-06-02 20:11:36': 74, '2015-05-22 20:11:31': 76, '2015-05-22 08:11:45': 74, '2015-05-25 20:10:22': 72, '2015-05-25 20:10:07': 46, '2015-05-27 08:11:30': 74, '2015-05-27 08:10:27': 48, '2015-05-07 20:10:08': 42, '2015-05-09 20:10:20': 44, '2015-05-09 20:11:36': 72, '2015-05-31 20:11:16': 74, '2015-05-31 20:10:29': 46, '2015-05-11 20:10:21': 72, '2015-05-11 20:10:07': 40, '2015-05-11 08:11:26': 72, '2015-05-11 08:10:24': 42, '2015-05-12 08:11:33': 68, '2015-05-12 08:10:22': 40, '2015-05-13 08:10:24': 44, '2015-05-14 08:11:25': 72, '2015-05-15 20:10:20': 70, '2015-05-16 08:10:27': 48, '2015-05-17 20:10:08': 46, '2015-05-17 08:11:26': 70, '2015-02-23 20:10:18': 28, '2015-03-06 08:11:30': 30, '2015-03-10 08:10:21': 20, '2015-03-14 11:10:09': 22, '2015-03-14 11:11:13': 30, '2015-03-17 09:24:29': 24, '2015-03-17 09:25:33': 52, '2015-03-20 08:11:43': 26, '2015-03-22 08:11:30': 50, '2015-06-07 20:10:07': 42, '2015-03-25 20:10:05': 28, '2015-03-25 20:10:15': 46, '2015-03-26 20:10:23': 42, '2015-03-26 20:10:05': 26, '2015-03-28 20:10:25': 44, '2015-03-28 20:10:15': 26, '2015-04-01 20:10:05': 26, '2015-04-05 08:11:24': 50, '2015-04-05 08:10:21': 22, '2015-04-04 20:10:17': 52, '2015-04-06 20:10:15': 50, '2015-04-09 08:10:24': 24, '2015-04-09 08:11:39': 52, '2015-04-16 20:10:17': 52, '2015-04-13 11:52:36': 24, '2015-04-15 08:10:25': 24, '2015-04-15 08:12:27': 50, '2015-04-21 20:10:17': 46, '2015-04-27 20:34:59': 44, '2015-05-18 08:10:22': 46, '2015-05-18 20:10:07': 46, '2015-05-18 20:10:33': 76, '2015-04-23 20:10:16': 42, '2015-04-25 20:10:17': 46, '2015-05-25 08:11:32': 74, '2015-04-29 20:10:07': 24, '2015-05-02 08:10:24': 26, '2015-05-04 20:10:42': 72, '2015-05-20 20:10:05': 46, '2015-05-22 08:10:33': 46, '2015-05-24 20:10:29': 72, '2015-05-24 08:10:23': 46, '2015-05-07 08:10:28': 42, '2015-05-07 08:12:29': 72, '2015-05-26 20:24:05': 76, '2015-05-26 20:23:43': 48, '2015-05-29 08:10:37': 48, '2015-05-28 20:10:07': 48, '2015-05-29 08:11:47': 74, '2015-06-02 20:10:12': 48, '2015-05-13 20:10:57': 74, '2015-05-15 20:10:07': 48, '2015-05-16 20:10:34': 70, '2015-03-30 08:11:32': 44, '2015-03-25 08:34:51': 52, '2015-04-03 20:10:05': 26, '2015-04-03 08:10:21': 26, '2015-04-03 08:11:24': 52, '2015-04-01 09:08:11': 26, '2015-04-01 09:08:19': 44, '2015-04-08 20:10:19': 52, '2015-05-24 08:11:39': 72, '2015-05-23 20:10:10': 46, '2015-04-10 20:37:41': 22, '2015-04-12 20:37:03': 52, '2015-04-14 20:11:33': 52, '2015-04-16 08:10:24': 24, '2015-04-19 20:10:24': 44, '2015-05-06 20:10:07': 42, '2015-04-23 08:11:22': 42, '2015-04-23 20:10:06': 24, '2015-04-25 08:11:20': 42, '2015-05-20 08:11:35': 76, '2015-05-20 08:10:23': 46, '2015-05-01 20:10:19': 46, '2015-05-01 20:10:06': 26, '2015-05-21 08:11:51': 78, '2015-05-21 20:10:20': 72, '2015-05-21 08:10:26': 46, '2015-05-31 08:11:37': 74, '2015-05-31 08:10:32': 46, '2015-05-04 20:10:16': 22, '2015-05-25 08:10:27': 46, '2015-05-26 08:10:25': 48, '2015-05-28 20:10:20': 74, '2015-05-08 20:11:39': 72, '2015-06-02 08:11:40': 74, '2015-05-13 08:11:30': 72, '2015-05-13 20:10:17': 46, '2015-08-08 20:10:07': 44, '2015-04-06 08:10:21': 24, '2015-04-06 08:11:31': 50, '2015-04-06 20:10:05': 24, '2015-04-04 20:10:05': 26, '2015-03-28 08:10:22': 26, '2015-03-28 08:11:31': 44, '2015-03-27 20:10:06': 22, '2015-03-31 20:10:05': 26, '2015-03-31 20:10:19': 44, '2015-03-30 08:10:21': 26, '2015-03-29 20:10:14': 44, '2015-03-25 08:34:44': 26, '2015-04-08 20:10:10': 24, '2015-04-10 08:10:29': 24, '2015-04-10 08:11:34': 50, '2015-04-14 20:10:24': 24, '2015-04-16 20:10:08': 24, '2015-04-16 08:11:23': 50, '2015-04-21 08:10:23': 22, '2015-04-18 20:10:06': 22, '2015-04-22 20:10:38': 46, '2015-04-23 08:10:23': 22, '2015-04-25 20:10:08': 24, '2015-04-25 08:10:23': 24, '2015-04-27 20:16:20': 24, '2015-04-29 08:11:25': 44, '2015-04-29 08:10:24': 22, '2015-05-19 20:10:34': 76, '2015-05-01 08:10:24': 26, '2015-05-06 08:10:26': 44, '2015-05-06 08:11:29': 76, '2015-05-21 20:10:07': 46, '2015-05-23 20:10:21': 74, '2015-05-24 20:10:07': 46, '2015-05-26 08:11:37': 74, '2015-05-08 08:10:24': 44, '2015-05-28 08:11:36': 74, '2015-05-30 20:10:08': 46, '2015-05-30 20:10:30': 74, '2015-06-02 08:10:24': 48, '2015-06-01 20:10:06': 46, '2015-05-15 08:11:25': 70, '2015-08-08 20:10:18': 74, '2015-08-09 08:10:25': 44, '2015-06-30 20:10:08': 40, '2015-07-01 08:10:37': 40, '2015-03-26 08:11:26': 42, '2015-03-29 20:10:05': 26, '2015-03-27 20:10:19': 46, '2015-03-24 20:10:06': 26, '2015-04-14 09:19:12': 52, '2015-04-14 09:19:03': 22, '2015-04-02 20:10:33': 50, '2015-04-05 20:10:15': 50, '2015-04-07 20:10:05': 26, '2015-04-08 08:10:24': 24, '2015-04-08 08:11:29': 52, '2015-04-18 08:10:22': 20, '2015-04-18 08:11:25': 44, '2015-05-19 20:10:14': 46, '2015-04-27 08:11:32': 42, '2015-04-27 08:10:22': 24, '2015-04-28 20:10:24': 42, '2015-05-01 08:11:27': 44, '2015-05-04 08:11:23': 46, '2015-05-04 08:10:25': 22, '2015-05-28 08:10:29': 48, '2015-06-01 20:10:24': 74, '2015-05-15 08:10:23': 54, '2015-05-16 20:10:08': 46, '2015-08-08 08:11:35': 76, '2015-08-08 08:10:23': 44, '2015-06-05 20:10:19': 72, '2015-06-07 08:11:23': 72, '2015-06-07 08:10:23': 44, '2015-06-06 20:10:26': 70, '2015-06-08 08:11:26': 72, '2015-06-08 20:10:05': 44, '2015-06-09 08:10:25': 46, '2015-06-09 08:11:25': 66, '2015-06-08 20:10:16': 74, '2015-07-18 14:52:41': 70, '2015-06-17 20:10:16': 80, '2015-06-10 20:11:23': 72, '2015-06-10 20:10:18': 46, '2015-06-11 08:10:29': 44, '2015-06-21 20:10:05': 40, '2015-06-23 20:11:37': 78, '2015-06-23 20:10:31': 42, '2015-08-13 20:10:06': 44, '2015-08-14 08:10:24': 44, '2015-08-15 08:10:22': 42, '2015-08-14 08:11:26': 74, '2015-08-13 08:11:22': 74, '2015-08-19 08:11:35': 76, '2015-08-30 20:10:27': 70, '2015-08-30 08:11:25': 74, '2015-06-27 08:11:24': 74, '2015-06-30 08:10:23': 42, '2015-08-23 08:11:36': 70, '2015-07-07 08:10:26': 42, '2015-07-03 20:10:07': 38, '2015-07-04 08:11:35': 78, '2015-07-04 20:10:07': 40, '2015-07-15 20:11:04': 74, '2015-07-15 08:10:25': 38, '2015-07-09 20:52:29': 120, '2015-07-09 20:20:38': 34, '2015-07-08 20:10:29': 70, '2015-07-12 08:10:24': 34, '2015-07-12 20:10:07': 34, '2015-07-20 08:10:22': 32, '2015-07-20 08:11:27': 58, '2015-07-21 08:10:24': 38, '2015-07-27 20:11:37': 76, '2015-07-29 08:11:36': 76, '2015-07-29 08:10:32': 42, '2015-07-23 08:10:22': 44, '2015-07-22 20:10:27': 74, '2015-07-27 20:10:25': 46, '2015-06-10 08:11:25': 74, '2015-06-10 08:10:24': 46, '2015-06-26 20:10:09': 42, '2015-06-26 20:10:44': 76, '2015-06-05 08:10:23': 44, '2015-06-05 20:10:08': 44, '2015-06-05 08:11:34': 74, '2015-06-08 08:10:24': 46, '2015-06-17 08:11:22': 76, '2015-06-12 20:10:06': 44, '2015-06-12 20:10:29': 76, '2015-06-12 08:10:22': 46, '2015-06-16 08:10:28': 44, '2015-06-16 08:11:33': 76, '2015-06-29 20:10:26': 78, '2015-08-07 20:10:06': 44, '2015-08-30 20:10:11': 42, '2015-10-12 08:10:25': 42, '2015-08-13 20:10:29': 76, '2015-08-17 08:11:38': 70, '2015-08-17 08:10:26': 42, '2015-08-17 20:10:08': 40, '2015-08-24 20:10:22': 38, '2015-08-24 08:11:37': 70, '2015-08-22 08:11:36': 70, '2015-08-22 08:10:23': 42, '2015-07-06 20:10:07': 40, '2015-07-02 20:10:09': 40, '2015-07-09 08:10:24': 36, '2015-07-09 08:11:34': 62, '2015-07-11 20:10:47': 60, '2015-07-19 20:11:24': 70, '2015-07-15 20:10:08': 38, '2015-07-14 08:10:23': 40, '2015-07-14 20:10:50': 76, '2015-07-15 08:11:25': 72, '2015-07-22 08:10:24': 40, '2015-07-23 08:11:33': 76, '2015-07-25 08:11:25': 76, '2015-07-26 08:10:23': 44, '2015-07-25 20:10:07': 44, '2015-07-24 08:10:25': 42, '2015-08-18 20:10:09': 42, '2015-08-20 08:10:24': 46, '2015-06-04 08:11:40': 74, '2015-06-04 08:10:27': 48, '2015-06-04 20:12:31': 72, '2015-06-06 20:10:05': 42, '2015-06-07 20:10:18': 70, '2015-06-12 08:11:23': 76, '2015-06-13 20:10:07': 44, '2015-06-13 20:10:36': 72, '2015-06-13 08:11:35': 76, '2015-06-14 20:10:08': 42, '2015-06-23 08:11:32': 78, '2015-06-15 20:10:18': 76, '2015-06-15 20:10:07': 42, '2015-06-21 20:10:18': 76, '2015-08-06 20:10:23': 76, '2015-08-07 20:10:24': 76, '2015-09-02 08:10:27': 46, '2015-09-02 20:10:08': 76, '2015-09-02 20:10:17': 74, '2015-08-12 20:10:22': 74, '2015-08-13 08:10:22': 44, '2015-06-25 20:10:11': 38, '2015-06-26 08:10:23': 44, '2015-06-26 08:11:21': 76, '2015-06-27 08:10:24': 44, '2015-06-29 20:10:09': 42, '2015-07-03 08:10:36': 40, '2015-07-02 20:10:33': 74, '2015-07-03 20:10:19': 78, '2015-07-18 20:11:26': 70, '2015-07-18 20:10:24': 38, '2015-07-22 08:11:26': 76, '2015-07-22 20:10:15': 42, '2015-06-03 20:10:18': 74, '2015-06-06 08:10:24': 44, '2015-06-06 08:11:32': 72, '2015-06-11 20:10:28': 72, '2015-06-11 20:10:07': 46, '2015-06-13 08:10:23': 46, '2015-06-14 08:10:21': 44, '2015-06-14 08:11:25': 74, '2015-06-15 08:12:08': 74, '2015-06-21 08:11:36': 76, '2015-06-21 08:10:24': 40, '2015-08-12 20:10:08': 44, '2015-08-30 08:10:22': 44, '2015-08-29 20:10:07': 44, '2015-08-16 20:10:22': 72, '2015-08-16 20:10:08': 40, '2015-09-02 08:11:35': 74, '2015-09-03 08:11:34': 72, '2015-08-20 08:11:36': 74, '2015-06-25 20:10:33': 80, '2015-07-02 08:10:23': 40, '2015-06-29 08:10:24': 44, '2015-06-29 08:11:34': 78, '2015-07-05 08:10:25': 42, '2015-07-06 08:11:35': 78, '2015-07-06 08:10:23': 42, '2015-07-06 20:10:33': 74, '2015-07-08 08:11:32': 76, '2015-07-18 14:51:32': 38, '2015-06-03 20:10:08': 48, '2015-06-17 20:10:06': 42, '2015-06-17 08:10:22': 42, '2015-06-04 20:10:33': 46, '2015-06-11 08:11:39': 74, '2015-06-14 20:10:33': 72, '2015-06-15 08:10:56': 42, '2015-08-07 08:11:27': 76, '2015-08-06 20:10:06': 40, '2015-08-07 08:10:26': 44, '2015-09-01 08:11:28': 70, '2015-08-28 20:10:18': 76, '2015-08-29 20:10:19': 74, '2015-08-29 08:11:25': 70, '2015-08-14 20:10:29': 72, '2015-08-19 08:10:24': 42, '2015-08-19 20:10:08': 46, '2015-06-25 08:11:25': 72, '2015-06-25 08:10:28': 42, '2015-06-28 20:10:22': 74, '2015-07-03 08:11:39': 74, '2015-07-02 08:11:22': 95, '2015-07-05 20:10:06': 42, '2015-07-08 20:10:07': 40, '2015-07-10 08:11:28': 62, '2015-07-10 20:10:17': 60, '2015-07-14 20:10:07': 40, '2015-07-13 20:10:20': 74, '2015-07-13 08:10:25': 34, '2015-07-14 08:11:22': 74, '2015-06-16 20:10:25': 76, '2015-06-20 20:10:25': 76, '2015-06-20 08:11:27': 78, '2015-06-23 08:10:23': 40, '2015-08-11 20:10:06': 40, '2015-07-01 20:11:35': 72, '2015-08-06 08:11:27': 76, '2015-08-05 20:10:20': 76, '2015-08-06 08:10:23': 46, '2015-08-24 20:10:34': 70, '2015-08-15 20:10:25': 74, '2015-08-16 08:10:23': 40, '2015-08-22 20:10:19': 72, '2015-07-05 20:10:18': 76, '2015-08-23 08:10:24': 40, '2015-08-22 20:10:07': 40, '2015-07-11 08:11:41': 62, '2015-07-11 08:10:25': 34, '2015-07-11 20:10:07': 32, '2015-07-17 08:11:34': 74, '2015-07-17 20:36:52': 68, '2015-07-24 20:10:06': 44, '2015-07-25 08:10:23': 42, '2015-07-24 20:10:29': 78, '2015-07-21 08:11:37': 70, '2015-08-26 20:10:08': 42, '2015-07-26 08:11:31': 78, '2015-07-25 20:10:29': 78, '2015-07-28 08:10:23': 44, '2015-07-29 20:10:34': 76, '2015-07-29 20:10:07': 46, '2015-07-28 20:11:34': 76, '2015-08-03 20:10:15': 42, '2015-08-02 20:10:27': 78, '2015-08-01 10:42:40': 44, '2015-07-30 20:10:28': 76, '2015-07-30 08:10:25': 44, '2015-07-31 20:10:19': 78, '2015-07-30 08:11:37': 76, '2015-08-02 20:10:08': 44, '2015-08-02 08:11:27': 76, '2015-08-01 20:10:09': 44, '2015-08-04 08:11:25': 78, '2015-08-25 08:10:47': 42, '2015-08-02 08:10:25': 46, '2015-08-01 10:42:51': 78, '2015-09-23 20:10:24': 76, '2015-06-20 08:10:26': 42, '2015-06-20 20:10:07': 40, '2015-06-22 20:10:07': 42, '2015-08-21 20:10:08': 40, '2015-08-24 08:10:25': 40, '2015-08-23 20:10:19': 70, '2015-08-23 20:10:07': 40, '2015-08-26 08:11:37': 76, '2015-08-25 08:11:55': 74, '2015-08-25 20:10:20': 76, '2015-07-19 20:10:25': 38, '2015-06-28 20:10:08': 44, '2015-07-04 08:10:23': 42, '2015-07-08 08:10:30': 42, '2015-07-10 08:10:26': 34, '2015-07-10 20:10:06': 36, '2015-07-16 20:10:35': 74, '2015-07-21 20:10:06': 42, '2015-07-24 08:11:27': 76, '2015-07-27 08:10:24': 44, '2015-07-28 08:11:36': 76, '2015-07-26 20:10:07': 44, '2015-08-10 20:10:18': 74, '2015-10-14 20:11:30': 78, '2015-07-31 08:10:24': 46, '2015-08-03 08:11:24': 78, '2015-08-04 08:10:23': 42, '2015-08-15 20:10:09': 42, '2015-07-31 08:11:27': 76, '2015-07-31 20:10:08': 44, '2015-08-01 20:10:24': 76, '2015-08-27 08:10:28': 42, '2015-08-27 08:11:40': 78, '2015-08-28 08:10:27': 44, '2015-08-27 20:10:25': 74, '2015-08-27 20:10:09': 42, '2015-08-04 20:10:22': 78, '2015-08-03 08:10:24': 42, '2015-08-03 20:10:29': 78, '2015-08-18 20:10:20': 78, '2015-08-18 08:10:23': 40, '2015-08-05 20:10:08': 46, '2015-08-28 08:11:40': 76, '2015-08-31 20:10:17': 72, '2015-09-01 08:10:24': 40, '2015-08-29 08:10:24': 44, '2015-08-28 20:10:08': 44, '2015-09-04 08:11:38': 76, '2015-06-30 20:10:31': 78, '2015-07-01 20:10:24': 38, '2015-07-05 08:11:27': 78, '2015-07-04 20:10:20': 76, '2015-07-07 20:10:07': 44, '2015-07-07 20:10:19': 78, '2015-07-07 08:11:40': 76, '2015-07-12 08:11:35': 60, '2015-09-15 08:10:25': 40, '2015-07-21 20:10:18': 74, '2015-07-20 20:10:27': 72, '2015-07-23 20:10:20': 76, '2015-09-22 20:10:12': 44, '2015-09-21 19:06:18': 88, '2015-09-20 08:11:24': 76, '2015-09-19 20:10:25': 76, '2015-09-21 08:10:24': 44, '2015-09-05 20:10:08': 40, '2015-09-05 08:10:22': 42, '2015-09-06 08:10:22': 42, '2015-09-06 20:10:07': 44, '2015-09-05 20:10:24': 74, '2015-09-07 20:12:54': 76, '2015-09-06 20:10:29': 78, '2015-09-07 08:11:21': 78, '2015-09-08 08:11:30': 68, '2015-09-09 20:10:08': 40, '2015-09-18 08:11:35': 72, '2015-09-19 08:10:22': 38, '2015-09-17 20:10:27': 74, '2015-09-10 20:10:07': 36, '2015-09-11 08:11:36': 76, '2015-09-17 08:10:26': 44, '2015-09-16 08:11:26': 74, '2015-09-13 08:10:24': 34, '2015-09-13 20:10:17': 72, '2015-09-17 20:10:08': 40, '2015-09-15 08:11:27': 72, '2015-10-14 08:10:28': 42, '2015-10-14 08:11:39': 76, '2015-09-15 20:10:09': 38, '2015-09-22 20:10:25': 74, '2015-09-14 20:10:09': 42, '2015-09-14 08:11:29': 74, '2015-09-14 08:10:24': 36, '2015-09-18 20:10:19': 78, '2015-09-25 08:11:25': 74, '2015-09-25 20:10:06': 38, '2015-09-25 08:10:23': 40, '2015-10-11 08:11:37': 76, '2015-10-12 08:11:27': 76, '2015-10-11 20:10:08': 42, '2015-08-18 08:11:25': 72, '2015-08-19 20:10:28': 76, '2015-08-21 08:10:24': 42, '2015-09-08 08:10:24': 38, '2015-09-03 20:10:24': 74, '2015-08-21 08:11:36': 68, '2015-08-21 20:10:31': 70, '2015-06-24 20:10:08': 44, '2015-06-24 20:10:19': 74, '2015-06-28 08:11:34': 76, '2015-06-28 08:10:24': 42, '2015-06-27 20:10:16': 76, '2015-09-03 08:10:22': 44, '2015-09-04 20:10:07': 36, '2015-09-04 20:10:21': 76, '2015-09-16 20:10:08': 42, '2015-09-17 08:11:29': 76, '2015-09-18 20:10:08': 46, '2015-09-19 08:11:24': 78, '2015-09-10 20:10:18': 74, '2015-09-11 20:10:23': 74, '2015-09-12 08:11:45': 70, '2015-09-11 20:10:07': 42, '2015-09-12 08:10:23': 40, '2015-09-13 08:11:36': 74, '2015-09-13 20:10:06': 38, '2015-09-12 20:10:26': 72, '2015-09-14 20:10:23': 74, '2015-09-16 20:10:21': 74, '2015-09-21 08:11:23': 74, '2015-09-19 20:10:10': 40, '2015-09-22 08:10:26': 44, '2015-09-20 20:10:08': 44, '2015-09-22 08:11:29': 74, '2015-09-21 19:07:37': 74, '2015-10-10 20:10:26': 76, '2015-10-10 20:10:07': 42, '2015-10-13 08:11:40': 76, '2015-09-15 20:10:26': 68, '2015-06-19 20:10:13': 40, '2015-06-22 08:11:27': 76, '2015-06-22 08:10:24': 42, '2015-06-24 08:11:36': 78, '2015-06-24 08:10:28': 42, '2015-08-15 08:11:23': 74, '2015-08-31 08:10:24': 42, '2015-08-31 20:10:07': 44, '2015-08-20 20:10:38': 72, '2015-08-20 20:10:15': 40, '2015-10-13 20:11:27': 76, '2015-08-16 08:11:35': 74, '2015-09-03 20:10:07': 44, '2015-09-04 08:10:25': 46, '2015-09-20 08:10:23': 42, '2015-09-06 08:11:23': 76, '2015-09-07 20:10:24': 40, '2015-09-07 08:10:22': 44, '2015-09-09 08:10:30': 38, '2015-09-08 20:10:23': 74, '2015-09-09 08:11:40': 74, '2015-09-09 20:10:23': 76, '2015-09-10 08:11:31': 72, '2015-09-11 08:10:25': 40, '2015-09-12 20:10:08': 40, '2015-09-18 08:10:23': 44, '2015-09-23 08:11:35': 76, '2015-09-23 08:10:24': 44, '2015-09-20 20:10:23': 74, '2015-07-23 20:10:08': 44, '2015-06-19 20:10:24': 76, '2015-06-19 08:11:32': 78, '2015-08-12 08:11:23': 74, '2015-08-17 20:10:30': 72, '2015-06-27 20:10:07': 42, '2015-07-01 08:11:49': 74, '2015-07-13 08:11:32': 58, '2015-07-13 20:10:06': 40, '2015-07-12 20:10:19': 60, '2015-07-20 20:10:14': 40, '2015-08-31 08:11:30': 74, '2015-07-27 08:11:35': 78, '2015-09-05 08:11:22': 74, '2015-09-08 20:10:08': 36, '2015-09-10 08:10:23': 28, '2015-09-16 08:10:23': 44, '2015-10-09 20:10:46': 76, '2015-10-11 08:10:24': 42, '2015-06-19 08:10:22': 40, '2015-06-30 08:11:24': 80, '2015-07-16 08:10:22': 38, '2015-07-16 08:11:32': 72, '2015-07-30 20:10:08': 46, '2015-07-26 20:10:31': 78, '2015-07-28 20:10:22': 44, '2015-08-25 20:10:08': 42, '2015-08-26 08:10:23': 42, '2015-08-26 20:10:29': 76, '2015-08-04 20:10:08': 44, '2015-08-05 08:10:26': 44, '2015-08-05 08:11:28': 78, '2015-10-12 20:10:12': 42, '2015-10-10 08:11:33': 76, '2015-10-09 20:10:07': 42, '2015-09-24 20:10:07': 40, '2015-09-24 20:10:19': 74, '2015-09-23 20:10:08': 42, '2015-09-28 08:10:37': 44, '2015-09-28 08:11:46': 74, '2015-09-28 20:10:18': 76, '2015-09-28 20:10:06': 44, '2015-09-29 20:11:23': 76, '2015-10-01 08:11:23': 72, '2015-09-30 08:11:52': 74, '2015-10-01 08:10:23': 38, '2015-09-24 08:10:24': 42, '2015-09-29 08:10:30': 42, '2015-09-29 20:10:23': 44, '2015-09-30 08:10:26': 44, '2015-09-30 20:10:05': 44, '2015-10-07 08:11:36': 76, '2015-10-03 08:10:24': 44, '2015-10-03 20:10:08': 44, '2015-10-04 20:10:25': 42, '2015-10-05 20:10:21': 76, '2015-10-04 20:11:28': 76, '2015-10-03 08:11:34': 76, '2015-10-02 20:10:30': 76, '2015-10-03 20:10:25': 76, '2015-10-05 08:10:24': 42, '2015-10-05 08:11:35': 76, '2015-10-06 08:10:31': 42, '2015-10-05 20:10:07': 42, '2015-10-06 20:10:51': 76, '2015-10-06 08:11:44': 76, '2015-10-10 08:10:26': 42, '2015-10-07 20:10:18': 78, '2015-10-08 08:11:26': 76, '2015-10-08 20:10:26': 76, '2015-10-08 20:10:09': 42, '2015-10-07 20:10:07': 42, '2015-09-24 08:11:25': 72, '2015-09-25 20:10:28': 74, '2015-09-26 08:10:25': 44, '2015-09-26 08:11:27': 70, '2015-09-29 08:11:38': 76, '2015-09-30 20:10:28': 68, '2015-10-14 20:10:24': 42, '2015-10-02 08:11:46': 74, '2015-10-02 08:10:35': 44, '2015-10-02 20:10:07': 44, '2015-10-11 20:10:34': 76, '2015-10-13 08:10:23': 42, '2015-10-06 20:10:18': 42, '2015-10-07 08:10:23': 42, '2015-10-08 08:10:26': 42, '2015-10-09 08:10:23': 42, '2015-10-09 08:11:35': 76, '2015-10-13 20:10:25': 42, '2015-10-12 20:10:28': 76}\n"
     ]
    }
   ],
   "source": [
    "print(conta_ocorrencias(s))"
   ]
  },
  {
   "cell_type": "code",
   "execution_count": 70,
   "metadata": {
    "collapsed": true
   },
   "outputs": [],
   "source": [
    "m=s\n",
    "moda=lambda m: (m.mode())"
   ]
  },
  {
   "cell_type": "code",
   "execution_count": 74,
   "metadata": {
    "collapsed": false
   },
   "outputs": [
    {
     "name": "stdout",
     "output_type": "stream",
     "text": [
      "0    2015-07-09 20:52:29\n",
      "dtype: object\n"
     ]
    }
   ],
   "source": [
    "print(moda(m))"
   ]
  },
  {
   "cell_type": "code",
   "execution_count": 51,
   "metadata": {
    "collapsed": true
   },
   "outputs": [],
   "source": [
    "dados_compP = df['COMPETITOR_PRICE']\n"
   ]
  },
  {
   "cell_type": "code",
   "execution_count": 54,
   "metadata": {
    "collapsed": false
   },
   "outputs": [
    {
     "name": "stdout",
     "output_type": "stream",
     "text": [
      "0               NaN\n",
      "1               NaN\n",
      "2               NaN\n",
      "3               NaN\n",
      "4               NaN\n",
      "5               NaN\n",
      "6               NaN\n",
      "7               NaN\n",
      "8               NaN\n",
      "9               NaN\n",
      "10              NaN\n",
      "11              NaN\n",
      "12              NaN\n",
      "13              NaN\n",
      "14              NaN\n",
      "15              NaN\n",
      "16              NaN\n",
      "17              NaN\n",
      "18              NaN\n",
      "19              NaN\n",
      "20              NaN\n",
      "21              NaN\n",
      "22              NaN\n",
      "23              NaN\n",
      "24              NaN\n",
      "25              NaN\n",
      "26              NaN\n",
      "27              NaN\n",
      "28              NaN\n",
      "29              NaN\n",
      "            ...    \n",
      "50084     37310.325\n",
      "50085     39238.300\n",
      "50086     37611.075\n",
      "50087     39539.050\n",
      "50088     37911.825\n",
      "50089     36284.600\n",
      "50090     38212.575\n",
      "50091     38219.000\n",
      "50092     36601.375\n",
      "50093     38529.350\n",
      "50094     38517.775\n",
      "50095     40434.175\n",
      "50096     42362.150\n",
      "50097     40727.425\n",
      "50098     42643.825\n",
      "50099     44560.225\n",
      "50100     44560.225\n",
      "50101     44559.150\n",
      "50102     65575.825\n",
      "50103     83917.025\n",
      "50104    102258.225\n",
      "50105    123274.900\n",
      "50106    143544.075\n",
      "50107    163813.250\n",
      "50108    161884.200\n",
      "50109    161883.125\n",
      "50110    163811.100\n",
      "50111    163811.100\n",
      "50112    163810.025\n",
      "50113    161880.975\n",
      "Name: COMPETITOR_PRICE, dtype: float64\n"
     ]
    },
    {
     "name": "stderr",
     "output_type": "stream",
     "text": [
      "C:\\Users\\Paulinha\\Anaconda3\\lib\\site-packages\\ipykernel\\__main__.py:1: FutureWarning: pd.rolling_mean is deprecated for Series and will be removed in a future version, replace with \n",
      "\tSeries.rolling(window=40,center=False).mean()\n",
      "  if __name__ == '__main__':\n"
     ]
    }
   ],
   "source": [
    "moavg = pd.rolling_mean(dados_compP, 40)\n",
    "print(moavg)"
   ]
  },
  {
   "cell_type": "code",
   "execution_count": 55,
   "metadata": {
    "collapsed": false
   },
   "outputs": [
    {
     "data": {
      "text/plain": [
       "PROD_ID                 39\n",
       "DATE_EXTRACTION         39\n",
       "COMPETITOR              39\n",
       "COMPETITOR_PRICE        39\n",
       "PAY_TYPE                39\n",
       "COMPETITOR_PRICE_LOG    39\n",
       "dtype: int64"
      ]
     },
     "execution_count": 55,
     "metadata": {},
     "output_type": "execute_result"
    }
   ],
   "source": [
    "df.apply(lambda x: sum(moavg.isnull()),axis=0)"
   ]
  },
  {
   "cell_type": "code",
   "execution_count": 56,
   "metadata": {
    "collapsed": false
   },
   "outputs": [
    {
     "data": {
      "text/plain": [
       "0         NaN\n",
       "1    0.000000\n",
       "2    0.053688\n",
       "3    8.474874\n",
       "4    0.000000\n",
       "Name: COMPETITOR_PRICE, dtype: float64"
      ]
     },
     "execution_count": 56,
     "metadata": {},
     "output_type": "execute_result"
    }
   ],
   "source": [
    "rets = dados_compP / dados_compP.shift(1) - 1\n",
    "rets.head()"
   ]
  },
  {
   "cell_type": "code",
   "execution_count": 57,
   "metadata": {
    "collapsed": false
   },
   "outputs": [
    {
     "data": {
      "text/plain": [
       "0         NaN\n",
       "1    0.000000\n",
       "2    0.053688\n",
       "3    8.474874\n",
       "4    0.000000\n",
       "Name: COMPETITOR_PRICE, dtype: float64"
      ]
     },
     "execution_count": 57,
     "metadata": {},
     "output_type": "execute_result"
    }
   ],
   "source": [
    "dados_compP.pct_change().head()\n",
    "        \n",
    "        \n",
    "        \n",
    "   "
   ]
  },
  {
   "cell_type": "code",
   "execution_count": 59,
   "metadata": {
    "collapsed": false
   },
   "outputs": [
    {
     "data": {
      "text/plain": [
       "<matplotlib.legend.Legend at 0x1e0b638f160>"
      ]
     },
     "execution_count": 59,
     "metadata": {},
     "output_type": "execute_result"
    },
    {
     "data": {
      "image/png": "[encoded data removed]",
      "text/plain": [
       "<matplotlib.figure.Figure at 0x1e0b638fb38>"
      ]
     },
     "metadata": {},
     "output_type": "display_data"
    }
   ],
   "source": [
    "dados_compP.plot(label='Valores_Reais')\n",
    "moavg.plot(label='Media_flutuante')\n",
    "plt.legend()"
   ]
  },
  {
   "cell_type": "code",
   "execution_count": 69,
   "metadata": {
    "collapsed": false
   },
   "outputs": [
    {
     "data": {
      "text/plain": [
       "<matplotlib.text.Text at 0x1e0bf9f1978>"
      ]
     },
     "execution_count": 69,
     "metadata": {},
     "output_type": "execute_result"
    },
    {
     "data": {
      "image/png": "[encoded data removed]",
      "text/plain": [
       "<matplotlib.figure.Figure at 0x1e0c0add358>"
      ]
     },
     "metadata": {},
     "output_type": "display_data"
    }
   ],
   "source": [
    "x=df['COMPETITOR_PRICE']\n",
    "y=df['PROD_ID']\n",
    "plt.scatter(x,y )\n",
    "plt.xlabel('Returns Competitor_PRICE')\n",
    "plt.ylabel('Returns Produtos')"
   ]
  },
  {
   "cell_type": "code",
   "execution_count": 70,
   "metadata": {
    "collapsed": false
   },
   "outputs": [
    {
     "data": {
      "image/png": "[encoded data removed]",
      "text/plain": [
       "<matplotlib.figure.Figure at 0x1e0c20f4cc0>"
      ]
     },
     "metadata": {},
     "output_type": "display_data"
    }
   ],
   "source": [
    "plt.scatter(df.mean(), df.std())\n",
    "plt.xlabel('Expected returns')\n",
    "plt.ylabel('Risk')\n",
    "for label, x, y in zip(df.columns, df.mean(), df.std()):\n",
    "    plt.annotate(\n",
    "        label, \n",
    "        xy = (x, y), xytext = (20, -20),\n",
    "        textcoords = 'offset points', ha = 'right', va = 'bottom',\n",
    "        bbox = dict(boxstyle = 'round,pad=0.5', fc = 'yellow', alpha = 0.5),\n",
    "        arrowprops = dict(arrowstyle = '->', connectionstyle = 'arc3,rad=0'))"
   ]
  },
  {
   "cell_type": "code",
   "execution_count": 71,
   "metadata": {
    "collapsed": false
   },
   "outputs": [
    {
     "data": {
      "text/plain": [
       "<matplotlib.text.Text at 0x1e0b64ca240>"
      ]
     },
     "execution_count": 71,
     "metadata": {},
     "output_type": "execute_result"
    },
    {
     "data": {
      "image/png": "[encoded data removed]",
      "text/plain": [
       "<matplotlib.figure.Figure at 0x1e0c16d0b70>"
      ]
     },
     "metadata": {},
     "output_type": "display_data"
    }
   ],
   "source": [
    "x=df['COMPETITOR_PRICE']\n",
    "y=df['COMPETITOR']\n",
    "plt.scatter(x,y )\n",
    "plt.xlabel('Returns Competitor_PRICE')\n",
    "plt.ylabel('Returns cOMPETITOR')"
   ]
  },
  {
   "cell_type": "code",
   "execution_count": null,
   "metadata": {
    "collapsed": true
   },
   "outputs": [],
   "source": []
  }
 ],
 "metadata": {
  "kernelspec": {
   "display_name": "Python 3",
   "language": "python",
   "name": "python3"
  },
  "language_info": {
   "codemirror_mode": {
    "name": "ipython",
    "version": 3
   },
   "file_extension": ".py",
   "mimetype": "text/x-python",
   "name": "python",
   "nbconvert_exporter": "python",
   "pygments_lexer": "ipython3",
   "version": "3.6.0"
  }
 },
 "nbformat": 4,
 "nbformat_minor": 2
}
