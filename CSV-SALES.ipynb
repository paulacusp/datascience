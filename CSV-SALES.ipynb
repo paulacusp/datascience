{
 "cells": [
  {
   "cell_type": "code",
   "execution_count": 1,
   "metadata": {
    "collapsed": true
   },
   "outputs": [],
   "source": [
    "import pandas as pd\n",
    "import matplotlib.pyplot as plt\n",
    "from matplotlib import style\n",
    "%matplotlib inline\n",
    "import numpy as np\n",
    "import bokeh \n",
    "from bokeh.plotting import figure, output_file, show\n",
    "from bokeh.charts import Bar, output_notebook, show"
   ]
  },
  {
   "cell_type": "code",
   "execution_count": 2,
   "metadata": {
    "collapsed": false
   },
   "outputs": [
    {
     "data": {
      "text/html": [
       "\n",
       "    <div class=\"bk-root\">\n",
       "        <a href=\"http://bokeh.pydata.org\" target=\"_blank\" class=\"bk-logo bk-logo-small bk-logo-notebook\"></a>\n",
       "        <span id=\"c6b7b9ae-ff4c-49f3-9298-d51143ad88a8\">Loading BokehJS ...</span>\n",
       "    </div>"
      ]
     },
     "metadata": {},
     "output_type": "display_data"
    },
    {
     "data": {
      "application/javascript": [
       "\n",
       "(function(global) {\n",
       "  function now() {\n",
       "    return new Date();\n",
       "  }\n",
       "\n",
       "  var force = true;\n",
       "\n",
       "  if (typeof (window._bokeh_onload_callbacks) === \"undefined\" || force === true) {\n",
       "    window._bokeh_onload_callbacks = [];\n",
       "    window._bokeh_is_loading = undefined;\n",
       "  }\n",
       "\n",
       "\n",
       "  \n",
       "  if (typeof (window._bokeh_timeout) === \"undefined\" || force === true) {\n",
       "    window._bokeh_timeout = Date.now() + 5000;\n",
       "    window._bokeh_failed_load = false;\n",
       "  }\n",
       "\n",
       "  var NB_LOAD_WARNING = {'data': {'text/html':\n",
       "     \"<div style='background-color: #fdd'>\\n\"+\n",
       "     \"<p>\\n\"+\n",
       "     \"BokehJS does not appear to have successfully loaded. If loading BokehJS from CDN, this \\n\"+\n",
       "     \"may be due to a slow or bad network connection. Possible fixes:\\n\"+\n",
       "     \"</p>\\n\"+\n",
       "     \"<ul>\\n\"+\n",
       "     \"<li>re-rerun `output_notebook()` to attempt to load from CDN again, or</li>\\n\"+\n",
       "     \"<li>use INLINE resources instead, as so:</li>\\n\"+\n",
       "     \"</ul>\\n\"+\n",
       "     \"<code>\\n\"+\n",
       "     \"from bokeh.resources import INLINE\\n\"+\n",
       "     \"output_notebook(resources=INLINE)\\n\"+\n",
       "     \"</code>\\n\"+\n",
       "     \"</div>\"}};\n",
       "\n",
       "  function display_loaded() {\n",
       "    if (window.Bokeh !== undefined) {\n",
       "      document.getElementById(\"c6b7b9ae-ff4c-49f3-9298-d51143ad88a8\").textContent = \"BokehJS successfully loaded.\";\n",
       "    } else if (Date.now() < window._bokeh_timeout) {\n",
       "      setTimeout(display_loaded, 100)\n",
       "    }\n",
       "  }\n",
       "\n",
       "  function run_callbacks() {\n",
       "    window._bokeh_onload_callbacks.forEach(function(callback) { callback() });\n",
       "    delete window._bokeh_onload_callbacks\n",
       "    console.info(\"Bokeh: all callbacks have finished\");\n",
       "  }\n",
       "\n",
       "  function load_libs(js_urls, callback) {\n",
       "    window._bokeh_onload_callbacks.push(callback);\n",
       "    if (window._bokeh_is_loading > 0) {\n",
       "      console.log(\"Bokeh: BokehJS is being loaded, scheduling callback at\", now());\n",
       "      return null;\n",
       "    }\n",
       "    if (js_urls == null || js_urls.length === 0) {\n",
       "      run_callbacks();\n",
       "      return null;\n",
       "    }\n",
       "    console.log(\"Bokeh: BokehJS not loaded, scheduling load and callback at\", now());\n",
       "    window._bokeh_is_loading = js_urls.length;\n",
       "    for (var i = 0; i < js_urls.length; i++) {\n",
       "      var url = js_urls[i];\n",
       "      var s = document.createElement('script');\n",
       "      s.src = url;\n",
       "      s.async = false;\n",
       "      s.onreadystatechange = s.onload = function() {\n",
       "        window._bokeh_is_loading--;\n",
       "        if (window._bokeh_is_loading === 0) {\n",
       "          console.log(\"Bokeh: all BokehJS libraries loaded\");\n",
       "          run_callbacks()\n",
       "        }\n",
       "      };\n",
       "      s.onerror = function() {\n",
       "        console.warn(\"failed to load library \" + url);\n",
       "      };\n",
       "      console.log(\"Bokeh: injecting script tag for BokehJS library: \", url);\n",
       "      document.getElementsByTagName(\"head\")[0].appendChild(s);\n",
       "    }\n",
       "  };var element = document.getElementById(\"c6b7b9ae-ff4c-49f3-9298-d51143ad88a8\");\n",
       "  if (element == null) {\n",
       "    console.log(\"Bokeh: ERROR: autoload.js configured with elementid 'c6b7b9ae-ff4c-49f3-9298-d51143ad88a8' but no matching script tag was found. \")\n",
       "    return false;\n",
       "  }\n",
       "\n",
       "  var js_urls = [\"https://cdn.pydata.org/bokeh/release/bokeh-0.12.4.min.js\", \"https://cdn.pydata.org/bokeh/release/bokeh-widgets-0.12.4.min.js\"];\n",
       "\n",
       "  var inline_js = [\n",
       "    function(Bokeh) {\n",
       "      Bokeh.set_log_level(\"info\");\n",
       "    },\n",
       "    \n",
       "    function(Bokeh) {\n",
       "      \n",
       "      document.getElementById(\"c6b7b9ae-ff4c-49f3-9298-d51143ad88a8\").textContent = \"BokehJS is loading...\";\n",
       "    },\n",
       "    function(Bokeh) {\n",
       "      console.log(\"Bokeh: injecting CSS: https://cdn.pydata.org/bokeh/release/bokeh-0.12.4.min.css\");\n",
       "      Bokeh.embed.inject_css(\"https://cdn.pydata.org/bokeh/release/bokeh-0.12.4.min.css\");\n",
       "      console.log(\"Bokeh: injecting CSS: https://cdn.pydata.org/bokeh/release/bokeh-widgets-0.12.4.min.css\");\n",
       "      Bokeh.embed.inject_css(\"https://cdn.pydata.org/bokeh/release/bokeh-widgets-0.12.4.min.css\");\n",
       "    }\n",
       "  ];\n",
       "\n",
       "  function run_inline_js() {\n",
       "    \n",
       "    if ((window.Bokeh !== undefined) || (force === true)) {\n",
       "      for (var i = 0; i < inline_js.length; i++) {\n",
       "        inline_js[i](window.Bokeh);\n",
       "      }if (force === true) {\n",
       "        display_loaded();\n",
       "      }} else if (Date.now() < window._bokeh_timeout) {\n",
       "      setTimeout(run_inline_js, 100);\n",
       "    } else if (!window._bokeh_failed_load) {\n",
       "      console.log(\"Bokeh: BokehJS failed to load within specified timeout.\");\n",
       "      window._bokeh_failed_load = true;\n",
       "    } else if (force !== true) {\n",
       "      var cell = $(document.getElementById(\"c6b7b9ae-ff4c-49f3-9298-d51143ad88a8\")).parents('.cell').data().cell;\n",
       "      cell.output_area.append_execute_result(NB_LOAD_WARNING)\n",
       "    }\n",
       "\n",
       "  }\n",
       "\n",
       "  if (window._bokeh_is_loading === 0) {\n",
       "    console.log(\"Bokeh: BokehJS loaded, going straight to plotting\");\n",
       "    run_inline_js();\n",
       "  } else {\n",
       "    load_libs(js_urls, function() {\n",
       "      console.log(\"Bokeh: BokehJS plotting callback run at\", now());\n",
       "      run_inline_js();\n",
       "    });\n",
       "  }\n",
       "}(this));"
      ]
     },
     "metadata": {},
     "output_type": "display_data"
    }
   ],
   "source": [
    "output_notebook()\n",
    "arq = open(\"sales.csv\", \"r\")\n",
    "df = pd.read_csv(arq)"
   ]
  },
  {
   "cell_type": "code",
   "execution_count": 3,
   "metadata": {
    "collapsed": false
   },
   "outputs": [
    {
     "data": {
      "text/plain": [
       "(351091, 4)"
      ]
     },
     "execution_count": 3,
     "metadata": {},
     "output_type": "execute_result"
    }
   ],
   "source": [
    "df.shape"
   ]
  },
  {
   "cell_type": "code",
   "execution_count": 4,
   "metadata": {
    "collapsed": false
   },
   "outputs": [
    {
     "data": {
      "text/html": [
       "<div>\n",
       "<table border=\"1\" class=\"dataframe\">\n",
       "  <thead>\n",
       "    <tr style=\"text-align: right;\">\n",
       "      <th></th>\n",
       "      <th>PROD_ID</th>\n",
       "      <th>DATE_ORDER</th>\n",
       "      <th>QTY_ORDER</th>\n",
       "      <th>REVENUE</th>\n",
       "    </tr>\n",
       "  </thead>\n",
       "  <tbody>\n",
       "    <tr>\n",
       "      <th>0</th>\n",
       "      <td>P6</td>\n",
       "      <td>2015-08-02</td>\n",
       "      <td>1.0</td>\n",
       "      <td>1808.99</td>\n",
       "    </tr>\n",
       "    <tr>\n",
       "      <th>1</th>\n",
       "      <td>P6</td>\n",
       "      <td>2015-08-17</td>\n",
       "      <td>1.0</td>\n",
       "      <td>1674.00</td>\n",
       "    </tr>\n",
       "    <tr>\n",
       "      <th>2</th>\n",
       "      <td>P6</td>\n",
       "      <td>2015-08-17</td>\n",
       "      <td>1.0</td>\n",
       "      <td>1673.95</td>\n",
       "    </tr>\n",
       "    <tr>\n",
       "      <th>3</th>\n",
       "      <td>P6</td>\n",
       "      <td>2015-08-11</td>\n",
       "      <td>1.0</td>\n",
       "      <td>1674.00</td>\n",
       "    </tr>\n",
       "    <tr>\n",
       "      <th>4</th>\n",
       "      <td>P6</td>\n",
       "      <td>2015-08-17</td>\n",
       "      <td>1.0</td>\n",
       "      <td>1674.00</td>\n",
       "    </tr>\n",
       "  </tbody>\n",
       "</table>\n",
       "</div>"
      ],
      "text/plain": [
       "  PROD_ID  DATE_ORDER  QTY_ORDER  REVENUE\n",
       "0      P6  2015-08-02        1.0  1808.99\n",
       "1      P6  2015-08-17        1.0  1674.00\n",
       "2      P6  2015-08-17        1.0  1673.95\n",
       "3      P6  2015-08-11        1.0  1674.00\n",
       "4      P6  2015-08-17        1.0  1674.00"
      ]
     },
     "execution_count": 4,
     "metadata": {},
     "output_type": "execute_result"
    }
   ],
   "source": [
    "df.head(5)"
   ]
  },
  {
   "cell_type": "code",
   "execution_count": 5,
   "metadata": {
    "collapsed": false
   },
   "outputs": [
    {
     "data": {
      "text/plain": [
       "PROD_ID       0\n",
       "DATE_ORDER    0\n",
       "QTY_ORDER     0\n",
       "REVENUE       0\n",
       "dtype: int64"
      ]
     },
     "execution_count": 5,
     "metadata": {},
     "output_type": "execute_result"
    }
   ],
   "source": [
    "df.apply(lambda x: sum(x.isnull()),axis=0)"
   ]
  },
  {
   "cell_type": "code",
   "execution_count": 6,
   "metadata": {
    "collapsed": true
   },
   "outputs": [],
   "source": [
    "produto_map={'P1':1, 'P2':2, 'P3':3, 'P4':4, 'P5':5, 'P6':6, 'P7':7, 'P8':8,'P9':9}"
   ]
  },
  {
   "cell_type": "code",
   "execution_count": 7,
   "metadata": {
    "collapsed": true
   },
   "outputs": [],
   "source": [
    "df['PROD_ID'] = df['PROD_ID'].map(produto_map)"
   ]
  },
  {
   "cell_type": "code",
   "execution_count": 8,
   "metadata": {
    "collapsed": false
   },
   "outputs": [
    {
     "data": {
      "text/html": [
       "<div>\n",
       "<table border=\"1\" class=\"dataframe\">\n",
       "  <thead>\n",
       "    <tr style=\"text-align: right;\">\n",
       "      <th></th>\n",
       "      <th>PROD_ID</th>\n",
       "      <th>DATE_ORDER</th>\n",
       "      <th>QTY_ORDER</th>\n",
       "      <th>REVENUE</th>\n",
       "    </tr>\n",
       "  </thead>\n",
       "  <tbody>\n",
       "    <tr>\n",
       "      <th>0</th>\n",
       "      <td>6</td>\n",
       "      <td>2015-08-02</td>\n",
       "      <td>1.0</td>\n",
       "      <td>1808.99</td>\n",
       "    </tr>\n",
       "    <tr>\n",
       "      <th>1</th>\n",
       "      <td>6</td>\n",
       "      <td>2015-08-17</td>\n",
       "      <td>1.0</td>\n",
       "      <td>1674.00</td>\n",
       "    </tr>\n",
       "    <tr>\n",
       "      <th>2</th>\n",
       "      <td>6</td>\n",
       "      <td>2015-08-17</td>\n",
       "      <td>1.0</td>\n",
       "      <td>1673.95</td>\n",
       "    </tr>\n",
       "    <tr>\n",
       "      <th>3</th>\n",
       "      <td>6</td>\n",
       "      <td>2015-08-11</td>\n",
       "      <td>1.0</td>\n",
       "      <td>1674.00</td>\n",
       "    </tr>\n",
       "    <tr>\n",
       "      <th>4</th>\n",
       "      <td>6</td>\n",
       "      <td>2015-08-17</td>\n",
       "      <td>1.0</td>\n",
       "      <td>1674.00</td>\n",
       "    </tr>\n",
       "  </tbody>\n",
       "</table>\n",
       "</div>"
      ],
      "text/plain": [
       "   PROD_ID  DATE_ORDER  QTY_ORDER  REVENUE\n",
       "0        6  2015-08-02        1.0  1808.99\n",
       "1        6  2015-08-17        1.0  1674.00\n",
       "2        6  2015-08-17        1.0  1673.95\n",
       "3        6  2015-08-11        1.0  1674.00\n",
       "4        6  2015-08-17        1.0  1674.00"
      ]
     },
     "execution_count": 8,
     "metadata": {},
     "output_type": "execute_result"
    }
   ],
   "source": [
    "df.head(5)"
   ]
  },
  {
   "cell_type": "code",
   "execution_count": 9,
   "metadata": {
    "collapsed": false
   },
   "outputs": [
    {
     "name": "stdout",
     "output_type": "stream",
     "text": [
      "Quantidade do P1: 4091 (1.17%)\n",
      "Quantidade do P2: 63358 (18.05%)\n",
      "Quantidade do P3: 2899 (0.83%)\n",
      "Quantidade do P4: 14656 (4.17%)\n",
      "Quantidade do P5: 19775 (5.63%)\n",
      "Quantidade do P6: 4102 (1.17%)\n",
      "Quantidade do P7: 195939 (55.81%)\n",
      "Quantidade do P8: 27840 (7.93%)\n",
      "Quantidade do P9: 18431 (5.25%)\n"
     ]
    }
   ],
   "source": [
    "num_C1 = len(df.loc[df['PROD_ID'] == 1])\n",
    "num_C2 = len(df.loc[df['PROD_ID'] == 2])\n",
    "num_C3 = len(df.loc[df['PROD_ID'] == 3])\n",
    "num_C4 = len(df.loc[df['PROD_ID'] == 4])\n",
    "num_C5 = len(df.loc[df['PROD_ID'] == 5])\n",
    "num_C6 = len(df.loc[df['PROD_ID'] == 6])\n",
    "num_C7 = len(df.loc[df['PROD_ID'] == 7])\n",
    "num_C8 = len(df.loc[df['PROD_ID'] == 8])\n",
    "num_C9 = len(df.loc[df['PROD_ID'] == 9])\n",
    "print(\"Quantidade do P1: {0} ({1:2.2f}%)\".format(num_C1,(num_C1/(num_C1+num_C2+num_C3+num_C4+num_C5+num_C6+num_C7+num_C8+num_C9))*100))\n",
    "print(\"Quantidade do P2: {0} ({1:2.2f}%)\".format(num_C2,(num_C2/(num_C1+num_C2+num_C3+num_C4+num_C5+num_C6+num_C7+num_C8+num_C9))*100))\n",
    "print(\"Quantidade do P3: {0} ({1:2.2f}%)\".format(num_C3,(num_C3/(num_C1+num_C2+num_C3+num_C4+num_C5+num_C6+num_C7+num_C8+num_C9))*100))\n",
    "print(\"Quantidade do P4: {0} ({1:2.2f}%)\".format(num_C4,(num_C4/(num_C1+num_C2+num_C3+num_C4+num_C5+num_C6+num_C7+num_C8+num_C9))*100))\n",
    "print(\"Quantidade do P5: {0} ({1:2.2f}%)\".format(num_C5,(num_C5/(num_C1+num_C2+num_C3+num_C4+num_C5+num_C6+num_C7+num_C8+num_C9))*100))\n",
    "print(\"Quantidade do P6: {0} ({1:2.2f}%)\".format(num_C6,(num_C6/(num_C1+num_C2+num_C3+num_C4+num_C5+num_C6+num_C7+num_C8+num_C9))*100))\n",
    "print(\"Quantidade do P7: {0} ({1:2.2f}%)\".format(num_C7,(num_C7/(num_C1+num_C2+num_C3+num_C4+num_C5+num_C6+num_C7+num_C8+num_C9))*100))\n",
    "print(\"Quantidade do P8: {0} ({1:2.2f}%)\".format(num_C8,(num_C8/(num_C1+num_C2+num_C3+num_C4+num_C5+num_C6+num_C7+num_C8+num_C9))*100))\n",
    "print(\"Quantidade do P9: {0} ({1:2.2f}%)\".format(num_C9,(num_C9/(num_C1+num_C2+num_C3+num_C4+num_C5+num_C6+num_C7+num_C8+num_C9))*100))"
   ]
  },
  {
   "cell_type": "code",
   "execution_count": 10,
   "metadata": {
    "collapsed": true
   },
   "outputs": [],
   "source": [
    "y=df['PROD_ID'] "
   ]
  },
  {
   "cell_type": "code",
   "execution_count": 17,
   "metadata": {
    "collapsed": false
   },
   "outputs": [
    {
     "data": {
      "image/png": "[encoded data removed]",
      "text/plain": [
       "<matplotlib.figure.Figure at 0x19264c51908>"
      ]
     },
     "metadata": {},
     "output_type": "display_data"
    }
   ],
   "source": [
    "y.hist(bins=30)\n",
    "plt.axis((1,10,0,100000))\n",
    "plt.title(\"Distribution of PROD_ID\")\n",
    "plt.ylabel('count of PROD_ID')\n",
    "plt.xlabel('Number of PROD_ID');"
   ]
  },
  {
   "cell_type": "code",
   "execution_count": 21,
   "metadata": {
    "collapsed": false
   },
   "outputs": [
    {
     "data": {
      "image/png": "[encoded data removed]",
      "text/plain": [
       "<matplotlib.figure.Figure at 0x19263367198>"
      ]
     },
     "metadata": {},
     "output_type": "display_data"
    }
   ],
   "source": []
  },
  {
   "cell_type": "code",
   "execution_count": 22,
   "metadata": {
    "collapsed": true
   },
   "outputs": [],
   "source": [
    "def plot_corr(df, size=10):\n",
    "    corr = df.corr()\n",
    "    fig, ax = plt.subplots(figsize = (size, size))\n",
    "    ax.matshow(corr)\n",
    "    plt.xticks(range(len(corr.columns)), corr.columns)\n",
    "    plt.yticks(range(len(corr.columns)), corr.columns)"
   ]
  },
  {
   "cell_type": "code",
   "execution_count": 23,
   "metadata": {
    "collapsed": false
   },
   "outputs": [
    {
     "data": {
      "image/png": "[encoded data removed]",
      "text/plain": [
       "<matplotlib.figure.Figure at 0x192648acda0>"
      ]
     },
     "metadata": {},
     "output_type": "display_data"
    }
   ],
   "source": [
    "plot_corr(df)"
   ]
  },
  {
   "cell_type": "code",
   "execution_count": 24,
   "metadata": {
    "collapsed": false
   },
   "outputs": [
    {
     "data": {
      "text/html": [
       "<div>\n",
       "<table border=\"1\" class=\"dataframe\">\n",
       "  <thead>\n",
       "    <tr style=\"text-align: right;\">\n",
       "      <th></th>\n",
       "      <th>PROD_ID</th>\n",
       "      <th>QTY_ORDER</th>\n",
       "      <th>REVENUE</th>\n",
       "    </tr>\n",
       "  </thead>\n",
       "  <tbody>\n",
       "    <tr>\n",
       "      <th>PROD_ID</th>\n",
       "      <td>1.000000</td>\n",
       "      <td>0.000347</td>\n",
       "      <td>-0.049231</td>\n",
       "    </tr>\n",
       "    <tr>\n",
       "      <th>QTY_ORDER</th>\n",
       "      <td>0.000347</td>\n",
       "      <td>1.000000</td>\n",
       "      <td>0.948663</td>\n",
       "    </tr>\n",
       "    <tr>\n",
       "      <th>REVENUE</th>\n",
       "      <td>-0.049231</td>\n",
       "      <td>0.948663</td>\n",
       "      <td>1.000000</td>\n",
       "    </tr>\n",
       "  </tbody>\n",
       "</table>\n",
       "</div>"
      ],
      "text/plain": [
       "            PROD_ID  QTY_ORDER   REVENUE\n",
       "PROD_ID    1.000000   0.000347 -0.049231\n",
       "QTY_ORDER  0.000347   1.000000  0.948663\n",
       "REVENUE   -0.049231   0.948663  1.000000"
      ]
     },
     "execution_count": 24,
     "metadata": {},
     "output_type": "execute_result"
    }
   ],
   "source": [
    "df.corr()"
   ]
  },
  {
   "cell_type": "code",
   "execution_count": 25,
   "metadata": {
    "collapsed": true
   },
   "outputs": [],
   "source": [
    "#media de vendas\n",
    "p=df['REVENUE']\n",
    "media_price= lambda p: (p.mean())"
   ]
  },
  {
   "cell_type": "code",
   "execution_count": 26,
   "metadata": {
    "collapsed": false
   },
   "outputs": [
    {
     "name": "stdout",
     "output_type": "stream",
     "text": [
      "764.9536154729539\n"
     ]
    }
   ],
   "source": [
    "print(media_price(p))"
   ]
  },
  {
   "cell_type": "code",
   "execution_count": 27,
   "metadata": {
    "collapsed": false
   },
   "outputs": [
    {
     "name": "stdout",
     "output_type": "stream",
     "text": [
      "count    351091.000000\n",
      "mean        764.953615\n",
      "std         781.957331\n",
      "min         229.000000\n",
      "25%         649.000000\n",
      "50%         749.000000\n",
      "75%         799.000000\n",
      "max      368750.000000\n",
      "Name: REVENUE, dtype: float64\n"
     ]
    }
   ],
   "source": [
    "print(df['REVENUE'].describe())"
   ]
  },
  {
   "cell_type": "code",
   "execution_count": 34,
   "metadata": {
    "collapsed": false
   },
   "outputs": [
    {
     "data": {
      "image/png": "[encoded data removed]",
      "text/plain": [
       "<matplotlib.figure.Figure at 0x19268580780>"
      ]
     },
     "metadata": {},
     "output_type": "display_data"
    }
   ],
   "source": [
    "#distribuíção normal\n",
    "import seaborn as sns # importando seaborn\n",
    "sns.set_palette(\"deep\", desat=.6)\n",
    "sns.set_context(rc={\"figure.figsize\": (8, 4)})\n",
    "\n",
    "mu, sigma =0, 0.1\n",
    "s = df['REVENUE']\n",
    "\n",
    "conta, box, ignorar = plt.hist(s, 100, normed=True)\n",
    "normal = plt.plot(box, 1/(sigma * np.sqrt(2 * np.pi)) *\n",
    "         np.exp( - (box - mu)**2 / (2 * sigma**2) ),\n",
    "         linewidth=2, color='r')"
   ]
  },
  {
   "cell_type": "code",
   "execution_count": 33,
   "metadata": {
    "collapsed": false
   },
   "outputs": [
    {
     "data": {
      "text/plain": [
       "<matplotlib.axes._subplots.AxesSubplot at 0x1926828fcc0>"
      ]
     },
     "execution_count": 33,
     "metadata": {},
     "output_type": "execute_result"
    },
    {
     "data": {
      "image/png": "[encoded data removed]",
      "text/plain": [
       "<matplotlib.figure.Figure at 0x192655c6b38>"
      ]
     },
     "metadata": {},
     "output_type": "display_data"
    }
   ],
   "source": [
    "plt.axis((0,10,0,3000))\n",
    "df.boxplot(column='REVENUE')"
   ]
  },
  {
   "cell_type": "code",
   "execution_count": 36,
   "metadata": {
    "collapsed": true
   },
   "outputs": [],
   "source": [
    "#tratando os valores extremos da amostra\n",
    "df['REVENUE_LOG'] = np.log(df['REVENUE'])"
   ]
  },
  {
   "cell_type": "code",
   "execution_count": 37,
   "metadata": {
    "collapsed": false
   },
   "outputs": [
    {
     "data": {
      "image/png": "[encoded data removed]",
      "text/plain": [
       "<matplotlib.figure.Figure at 0x192650c61d0>"
      ]
     },
     "metadata": {},
     "output_type": "display_data"
    }
   ],
   "source": [
    "#distribuíção normal\n",
    "import seaborn as sns # importando seaborn\n",
    "sns.set_palette(\"deep\", desat=.6)\n",
    "sns.set_context(rc={\"figure.figsize\": (8, 4)})\n",
    "\n",
    "mu, sigma = 0, 0.1 \n",
    "s = df['REVENUE_LOG']\n",
    "\n",
    "conta, box, ignorar = plt.hist(s, 90, normed=True)\n",
    "normal = plt.plot(box, 1/(sigma * np.sqrt(2 * np.pi)) *\n",
    "         np.exp( - (box - mu)**2 / (2 * sigma**2) ),\n",
    "         linewidth=2, color='r')"
   ]
  },
  {
   "cell_type": "code",
   "execution_count": 38,
   "metadata": {
    "collapsed": false
   },
   "outputs": [
    {
     "data": {
      "text/plain": [
       "LinregressResult(slope=0.001338937505053093, intercept=0.054612025224008542, rvalue=0.94866302885438936, pvalue=0.0, stderr=7.5339583244605706e-07)"
      ]
     },
     "execution_count": 38,
     "metadata": {},
     "output_type": "execute_result"
    }
   ],
   "source": [
    "#regressão linear\n",
    "x = df['REVENUE']\n",
    "y = df['QTY_ORDER']\n",
    "from scipy.stats import linregress\n",
    "\n",
    "linregress(x,y)"
   ]
  },
  {
   "cell_type": "code",
   "execution_count": 39,
   "metadata": {
    "collapsed": false
   },
   "outputs": [
    {
     "data": {
      "text/plain": [
       "LinregressResult(slope=-0.00013820920865118829, intercept=6.0352034553201639, rvalue=-0.049231006311525903, pvalue=2.7211502846337352e-187, stderr=4.7321959441768434e-06)"
      ]
     },
     "execution_count": 39,
     "metadata": {},
     "output_type": "execute_result"
    }
   ],
   "source": [
    "#regressão linear\n",
    "x = df['REVENUE']\n",
    "y = df['PROD_ID']\n",
    "from scipy.stats import linregress\n",
    "\n",
    "linregress(x,y)"
   ]
  },
  {
   "cell_type": "code",
   "execution_count": 42,
   "metadata": {
    "collapsed": false
   },
   "outputs": [
    {
     "name": "stdout",
     "output_type": "stream",
     "text": [
      "{'2015-08-02': 188, '2015-08-17': 502, '2015-08-11': 675, '2015-07-30': 1810, '2015-08-06': 803, '2015-08-16': 259, '2015-07-25': 646, '2015-07-16': 1621, '2015-07-31': 1473, '2015-07-21': 1088, '2015-08-10': 807, '2015-08-23': 275, '2015-07-27': 1074, '2015-08-07': 681, '2015-07-28': 1194, '2015-07-26': 501, '2015-08-19': 12308, '2015-07-29': 979, '2015-09-24': 4142, '2015-09-01': 6669, '2015-08-31': 2410, '2015-08-26': 570, '2015-08-20': 7737, '2015-08-13': 320, '2015-08-27': 392, '2015-08-04': 694, '2015-09-23': 5282, '2015-08-24': 853, '2015-08-28': 292, '2015-10-01': 3395, '2015-09-30': 2794, '2015-10-06': 536, '2015-10-07': 1099, '2015-10-08': 1685, '2015-09-25': 493, '2015-09-22': 1975, '2015-10-03': 994, '2015-10-02': 2882, '2015-10-05': 1102, '2015-09-27': 543, '2015-10-12': 634, '2015-07-20': 1498, '2015-08-05': 491, '2015-08-01': 419, '2015-10-04': 655, '2015-09-02': 7255, '2015-09-11': 1683, '2015-09-13': 447, '2015-09-10': 1921, '2015-09-14': 1149, '2015-09-29': 2166, '2015-09-05': 1653, '2015-09-12': 472, '2015-09-09': 1280, '2015-09-17': 1300, '2015-07-18': 984, '2015-08-18': 4996, '2015-08-21': 2959, '2015-09-15': 2400, '2015-09-04': 1629, '2015-08-25': 871, '2015-03-12': 898, '2015-03-06': 577, '2015-03-04': 1489, '2015-03-05': 477, '2015-03-10': 710, '2015-04-10': 1030, '2015-03-07': 1075, '2015-03-26': 390, '2015-03-15': 193, '2015-03-11': 1082, '2015-03-09': 510, '2015-03-18': 3589, '2015-03-20': 908, '2015-05-04': 2531, '2015-01-23': 822, '2015-02-04': 1093, '2015-01-05': 1216, '2015-01-03': 713, '2015-02-03': 1191, '2015-04-21': 954, '2015-04-02': 516, '2015-04-07': 558, '2015-03-16': 463, '2015-04-08': 1176, '2015-03-23': 308, '2015-03-28': 343, '2015-03-17': 1876, '2015-03-30': 707, '2015-03-19': 1129, '2015-04-06': 550, '2015-02-27': 832, '2015-04-04': 544, '2015-04-30': 2514, '2015-04-23': 1499, '2015-03-31': 546, '2015-04-13': 1398, '2015-04-11': 1392, '2015-02-25': 921, '2015-05-21': 1045, '2015-04-09': 610, '2015-02-26': 940, '2015-01-08': 263, '2015-01-12': 248, '2015-01-17': 218, '2015-01-21': 859, '2015-01-28': 611, '2015-01-06': 1816, '2015-01-22': 678, '2015-01-10': 306, '2015-01-11': 194, '2015-01-13': 386, '2015-01-20': 803, '2015-01-16': 774, '2015-02-06': 896, '2015-02-19': 915, '2015-02-05': 711, '2015-02-28': 807, '2015-02-07': 1068, '2015-03-21': 680, '2015-03-01': 1047, '2015-03-03': 2808, '2015-02-24': 994, '2015-02-10': 1173, '2015-02-09': 680, '2015-02-14': 665, '2015-02-13': 761, '2015-02-21': 840, '2015-02-17': 540, '2015-02-15': 444, '2015-02-01': 342, '2015-02-12': 1395, '2015-02-11': 2407, '2015-02-08': 865, '2015-01-07': 2239, '2015-01-27': 742, '2015-01-02': 877, '2015-01-01': 337, '2015-03-29': 347, '2015-03-25': 560, '2015-03-24': 447, '2015-03-14': 131, '2015-03-22': 255, '2015-05-18': 322, '2015-05-05': 1033, '2015-05-17': 639, '2015-06-06': 342, '2015-06-02': 632, '2015-05-15': 2285, '2015-05-08': 1772, '2015-05-22': 1684, '2015-05-07': 1041, '2015-05-19': 492, '2015-06-03': 482, '2015-06-09': 854, '2015-01-15': 629, '2015-01-09': 407, '2015-01-30': 675, '2015-01-24': 689, '2015-01-18': 263, '2015-01-26': 760, '2015-01-14': 476, '2015-01-29': 819, '2015-01-19': 640, '2015-02-02': 797, '2015-01-25': 494, '2015-05-02': 2711, '2015-05-27': 7562, '2015-06-05': 491, '2015-05-25': 495, '2015-06-13': 845, '2015-05-30': 491, '2015-06-08': 821, '2015-05-11': 934, '2015-05-28': 2320, '2015-05-09': 2467, '2015-06-01': 466, '2015-05-06': 883, '2015-05-31': 400, '2015-06-07': 350, '2015-06-04': 441, '2015-05-13': 1351, '2015-05-23': 1224, '2015-05-12': 1133, '2015-06-10': 549, '2015-05-03': 2082, '2015-04-15': 1775, '2015-03-13': 606, '2015-04-16': 952, '2015-04-19': 424, '2015-04-12': 1219, '2015-04-14': 1123, '2015-03-27': 466, '2015-03-08': 551, '2015-04-01': 456, '2015-04-05': 446, '2015-04-18': 610, '2015-04-26': 975, '2015-04-17': 754, '2015-04-24': 1438, '2015-04-20': 730, '2015-04-22': 786, '2015-05-20': 565, '2015-05-16': 1473, '2015-04-28': 1821, '2015-04-29': 1247, '2015-04-25': 1141, '2015-06-12': 903, '2015-06-17': 2171, '2015-05-14': 3041, '2015-05-24': 619, '2015-06-16': 1777, '2015-06-23': 1312, '2015-05-29': 543, '2015-06-11': 978, '2015-06-19': 1293, '2015-06-20': 945, '2015-06-14': 598, '2015-06-24': 2686, '2015-06-29': 2177, '2015-06-18': 2471, '2015-06-22': 573, '2015-07-05': 900, '2015-06-28': 307, '2015-06-27': 503, '2015-06-15': 1159, '2015-07-22': 537, '2015-07-02': 1672, '2015-06-25': 2988, '2015-07-07': 2176, '2015-07-15': 2062, '2015-08-09': 482, '2015-07-14': 1142, '2015-07-12': 695, '2015-07-08': 1872, '2015-07-13': 765, '2015-07-23': 652, '2015-07-24': 884, '2015-07-11': 930, '2015-07-17': 1345, '2015-07-10': 1076, '2015-08-29': 261, '2015-08-12': 381, '2015-08-14': 352, '2015-06-30': 2516, '2015-06-26': 2313, '2015-07-01': 497, '2015-07-19': 907, '2015-07-04': 1023, '2015-07-03': 670, '2015-09-26': 498, '2015-09-28': 1236, '2015-08-22': 299, '2015-08-30': 272, '2015-05-10': 1313, '2015-02-22': 565, '2015-02-20': 787, '2015-01-31': 434, '2015-07-09': 1122, '2015-04-03': 508, '2015-01-04': 629, '2015-06-21': 769, '2015-05-26': 4204, '2015-04-27': 1550, '2015-07-06': 803, '2015-09-07': 1334, '2015-10-11': 423, '2015-09-08': 555, '2015-09-18': 2185, '2015-09-16': 2164, '2015-10-09': 1126, '2015-09-03': 2872, '2015-10-10': 679, '2015-09-21': 478, '2015-09-06': 1652, '2015-09-19': 1839, '2015-10-13': 1731, '2015-10-14': 3395, '2015-08-03': 389, '2015-08-15': 290, '2015-08-08': 782, '2015-05-01': 3236, '2015-02-23': 936, '2015-02-18': 1364, '2015-02-16': 622, '2015-03-02': 1537, '2015-09-20': 2509}\n"
     ]
    }
   ],
   "source": [
    "df7= df['DATE_ORDER']\n",
    "s=df7\n",
    "def conta_ocorrencias(s):\n",
    "    ocorrencias = {}\n",
    "    for c in s:\n",
    "        if c in ocorrencias:\n",
    "            ocorrencias[c] = ocorrencias[c] + 1\n",
    "        else:\n",
    "            ocorrencias[c] = 1\n",
    "    return ocorrencias\n",
    "print(conta_ocorrencias(s))"
   ]
  },
  {
   "cell_type": "code",
   "execution_count": 43,
   "metadata": {
    "collapsed": true
   },
   "outputs": [],
   "source": [
    "m=s\n",
    "moda=lambda m: (m.mode())"
   ]
  },
  {
   "cell_type": "code",
   "execution_count": 44,
   "metadata": {
    "collapsed": false
   },
   "outputs": [
    {
     "name": "stdout",
     "output_type": "stream",
     "text": [
      "0    2015-08-19\n",
      "dtype: object\n"
     ]
    }
   ],
   "source": [
    "print(moda(m))"
   ]
  },
  {
   "cell_type": "code",
   "execution_count": 45,
   "metadata": {
    "collapsed": true
   },
   "outputs": [],
   "source": [
    "dados_compP = df['REVENUE']"
   ]
  },
  {
   "cell_type": "code",
   "execution_count": 46,
   "metadata": {
    "collapsed": false
   },
   "outputs": [
    {
     "name": "stdout",
     "output_type": "stream",
     "text": [
      "0                NaN\n",
      "1                NaN\n",
      "2                NaN\n",
      "3                NaN\n",
      "4                NaN\n",
      "5                NaN\n",
      "6                NaN\n",
      "7                NaN\n",
      "8                NaN\n",
      "9                NaN\n",
      "10               NaN\n",
      "11               NaN\n",
      "12               NaN\n",
      "13               NaN\n",
      "14               NaN\n",
      "15               NaN\n",
      "16               NaN\n",
      "17               NaN\n",
      "18               NaN\n",
      "19               NaN\n",
      "20               NaN\n",
      "21               NaN\n",
      "22               NaN\n",
      "23               NaN\n",
      "24               NaN\n",
      "25               NaN\n",
      "26               NaN\n",
      "27               NaN\n",
      "28               NaN\n",
      "29               NaN\n",
      "             ...    \n",
      "351061    1169.71650\n",
      "351062    1173.06125\n",
      "351063    1176.40600\n",
      "351064    1178.13000\n",
      "351065    1179.85400\n",
      "351066    1183.90125\n",
      "351067    1184.16650\n",
      "351068    1187.51125\n",
      "351069    1192.47675\n",
      "351070    1194.17575\n",
      "351071    1195.87725\n",
      "351072    1192.57625\n",
      "351073    1192.14600\n",
      "351074    1193.87000\n",
      "351075    1193.87000\n",
      "351076    1195.49075\n",
      "351077    1193.87000\n",
      "351078    1192.24925\n",
      "351079    1190.62850\n",
      "351080    1186.38200\n",
      "351081    1186.38200\n",
      "351082    1186.38200\n",
      "351083    1184.76125\n",
      "351084    1184.76125\n",
      "351085    1184.76125\n",
      "351086    1180.80800\n",
      "351087    1212.89950\n",
      "351088    1217.97950\n",
      "351089    1216.35875\n",
      "351090    1214.73800\n",
      "Name: REVENUE, dtype: float64\n"
     ]
    },
    {
     "name": "stderr",
     "output_type": "stream",
     "text": [
      "C:\\Users\\Paulinha\\Anaconda3\\lib\\site-packages\\ipykernel\\__main__.py:1: FutureWarning: pd.rolling_mean is deprecated for Series and will be removed in a future version, replace with \n",
      "\tSeries.rolling(window=40,center=False).mean()\n",
      "  if __name__ == '__main__':\n"
     ]
    }
   ],
   "source": [
    "moavg = pd.rolling_mean(dados_compP, 40)\n",
    "print(moavg)"
   ]
  },
  {
   "cell_type": "code",
   "execution_count": 47,
   "metadata": {
    "collapsed": false
   },
   "outputs": [
    {
     "data": {
      "text/plain": [
       "PROD_ID        39\n",
       "DATE_ORDER     39\n",
       "QTY_ORDER      39\n",
       "REVENUE        39\n",
       "REVENUE_LOG    39\n",
       "dtype: int64"
      ]
     },
     "execution_count": 47,
     "metadata": {},
     "output_type": "execute_result"
    }
   ],
   "source": [
    "df.apply(lambda x: sum(moavg.isnull()),axis=0)"
   ]
  },
  {
   "cell_type": "code",
   "execution_count": 48,
   "metadata": {
    "collapsed": false
   },
   "outputs": [
    {
     "data": {
      "text/plain": [
       "0         NaN\n",
       "1   -0.074622\n",
       "2   -0.000030\n",
       "3    0.000030\n",
       "4    0.000000\n",
       "Name: REVENUE, dtype: float64"
      ]
     },
     "execution_count": 48,
     "metadata": {},
     "output_type": "execute_result"
    }
   ],
   "source": [
    "rets = dados_compP / dados_compP.shift(1) - 1\n",
    "rets.head()"
   ]
  },
  {
   "cell_type": "code",
   "execution_count": 49,
   "metadata": {
    "collapsed": false
   },
   "outputs": [
    {
     "data": {
      "text/plain": [
       "0         NaN\n",
       "1   -0.074622\n",
       "2   -0.000030\n",
       "3    0.000030\n",
       "4    0.000000\n",
       "Name: REVENUE, dtype: float64"
      ]
     },
     "execution_count": 49,
     "metadata": {},
     "output_type": "execute_result"
    }
   ],
   "source": [
    "dados_compP.pct_change().head()"
   ]
  },
  {
   "cell_type": "code",
   "execution_count": 50,
   "metadata": {
    "collapsed": false
   },
   "outputs": [
    {
     "data": {
      "text/plain": [
       "<matplotlib.legend.Legend at 0x1926578e2b0>"
      ]
     },
     "execution_count": 50,
     "metadata": {},
     "output_type": "execute_result"
    },
    {
     "data": {
      "image/png": "[encoded data removed]",
      "text/plain": [
       "<matplotlib.figure.Figure at 0x192657820f0>"
      ]
     },
     "metadata": {},
     "output_type": "display_data"
    }
   ],
   "source": [
    "dados_compP.plot(label='Valores_Reais')\n",
    "moavg.plot(label='Media_flutuante')\n",
    "plt.legend()"
   ]
  },
  {
   "cell_type": "code",
   "execution_count": 51,
   "metadata": {
    "collapsed": false
   },
   "outputs": [
    {
     "data": {
      "text/plain": [
       "<matplotlib.legend.Legend at 0x19268fa6a90>"
      ]
     },
     "execution_count": 51,
     "metadata": {},
     "output_type": "execute_result"
    },
    {
     "data": {
      "image/png": "[encoded data removed]",
      "text/plain": [
       "<matplotlib.figure.Figure at 0x19268fd72b0>"
      ]
     },
     "metadata": {},
     "output_type": "display_data"
    }
   ],
   "source": [
    "dados_compP.plot(label='Valores_Reais')\n",
    "moavg.plot(label='Media_flutuante')\n",
    "plt.legend()"
   ]
  },
  {
   "cell_type": "code",
   "execution_count": 52,
   "metadata": {
    "collapsed": false
   },
   "outputs": [
    {
     "data": {
      "text/plain": [
       "<matplotlib.text.Text at 0x1927a7f1198>"
      ]
     },
     "execution_count": 52,
     "metadata": {},
     "output_type": "execute_result"
    },
    {
     "data": {
      "image/png": "[encoded data removed]",
      "text/plain": [
       "<matplotlib.figure.Figure at 0x1927a7ea9b0>"
      ]
     },
     "metadata": {},
     "output_type": "display_data"
    }
   ],
   "source": [
    "x=df['REVENUE']\n",
    "y=df['PROD_ID']\n",
    "plt.scatter(x,y )\n",
    "plt.xlabel('Returns REVENUE')\n",
    "plt.ylabel('Returns PROD_ID')"
   ]
  },
  {
   "cell_type": "code",
   "execution_count": 53,
   "metadata": {
    "collapsed": false
   },
   "outputs": [
    {
     "data": {
      "text/plain": [
       "<matplotlib.text.Text at 0x19269a8bf60>"
      ]
     },
     "execution_count": 53,
     "metadata": {},
     "output_type": "execute_result"
    },
    {
     "data": {
      "image/png": "[encoded data removed]",
      "text/plain": [
       "<matplotlib.figure.Figure at 0x1926a2850f0>"
      ]
     },
     "metadata": {},
     "output_type": "display_data"
    }
   ],
   "source": [
    "x=df['REVENUE']\n",
    "y=df['QTY_ORDER']\n",
    "plt.scatter(x,y )\n",
    "plt.xlabel('Returns REVENUE')\n",
    "plt.ylabel('Returns QTY_ORDER')"
   ]
  },
  {
   "cell_type": "code",
   "execution_count": null,
   "metadata": {
    "collapsed": true
   },
   "outputs": [],
   "source": [
    "plt.scatter(df.mean(), df.std())\n",
    "plt.xlabel('Expected returns')\n",
    "plt.ylabel('Risk')\n",
    "for label, x, y in zip(df.columns, df.mean(), df.std()):\n",
    "    plt.annotate(\n",
    "        label, \n",
    "        xy = (x, y), xytext = (20, -20),\n",
    "        textcoords = 'offset points', ha = 'right', va = 'bottom',\n",
    "        bbox = dict(boxstyle = 'round,pad=0.5', fc = 'yellow', alpha = 0.5),\n",
    "        arrowprops = dict(arrowstyle = '->', connectionstyle = 'arc3,rad=0'))"
   ]
  },
  {
   "cell_type": "code",
   "execution_count": null,
   "metadata": {
    "collapsed": true
   },
   "outputs": [],
   "source": []
  }
 ],
 "metadata": {
  "kernelspec": {
   "display_name": "Python 3",
   "language": "python",
   "name": "python3"
  },
  "language_info": {
   "codemirror_mode": {
    "name": "ipython",
    "version": 3
   },
   "file_extension": ".py",
   "mimetype": "text/x-python",
   "name": "python",
   "nbconvert_exporter": "python",
   "pygments_lexer": "ipython3",
   "version": "3.6.0"
  }
 },
 "nbformat": 4,
 "nbformat_minor": 2
}
